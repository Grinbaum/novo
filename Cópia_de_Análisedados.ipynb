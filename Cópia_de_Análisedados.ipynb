{
  "nbformat": 4,
  "nbformat_minor": 0,
  "metadata": {
    "colab": {
      "name": "Cópia de Análisedados.ipynb",
      "provenance": [],
      "collapsed_sections": [],
      "authorship_tag": "ABX9TyPIERN7GdaDOH5gS+jVA0V5",
      "include_colab_link": true
    },
    "kernelspec": {
      "name": "python3",
      "display_name": "Python 3"
    },
    "language_info": {
      "name": "python"
    }
  },
  "cells": [
    {
      "cell_type": "markdown",
      "metadata": {
        "id": "view-in-github",
        "colab_type": "text"
      },
      "source": [
        "<a href=\"https://colab.research.google.com/github/Grinbaum/novo/blob/main/C%C3%B3pia_de_An%C3%A1lisedados.ipynb\" target=\"_parent\"><img src=\"https://colab.research.google.com/assets/colab-badge.svg\" alt=\"Open In Colab\"/></a>"
      ]
    },
    {
      "cell_type": "code",
      "metadata": {
        "colab": {
          "base_uri": "https://localhost:8080/",
          "height": 200
        },
        "id": "0GQZ6aXa0gLH",
        "outputId": "681504a5-8e0a-4d09-f048-b4b5565f74f7"
      },
      "source": [
        "import pandas as pd\n",
        "import csv\n",
        "dados = pd.read_csv('microdados.csv')\n",
        "dados.head()\n"
      ],
      "execution_count": 17,
      "outputs": [
        {
          "output_type": "execute_result",
          "data": {
            "text/html": [
              "<div>\n",
              "<style scoped>\n",
              "    .dataframe tbody tr th:only-of-type {\n",
              "        vertical-align: middle;\n",
              "    }\n",
              "\n",
              "    .dataframe tbody tr th {\n",
              "        vertical-align: top;\n",
              "    }\n",
              "\n",
              "    .dataframe thead th {\n",
              "        text-align: right;\n",
              "    }\n",
              "</style>\n",
              "<table border=\"1\" class=\"dataframe\">\n",
              "  <thead>\n",
              "    <tr style=\"text-align: right;\">\n",
              "      <th></th>\n",
              "      <th>ano</th>\n",
              "      <th>edicao</th>\n",
              "      <th>cidade_sede</th>\n",
              "      <th>pais</th>\n",
              "      <th>delegacao</th>\n",
              "      <th>equipe</th>\n",
              "      <th>id_atleta</th>\n",
              "      <th>nome_atleta</th>\n",
              "      <th>sexo</th>\n",
              "      <th>idade</th>\n",
              "      <th>altura</th>\n",
              "      <th>peso</th>\n",
              "      <th>esporte</th>\n",
              "      <th>evento</th>\n",
              "      <th>medalha</th>\n",
              "    </tr>\n",
              "  </thead>\n",
              "  <tbody>\n",
              "    <tr>\n",
              "      <th>0</th>\n",
              "      <td>1896</td>\n",
              "      <td>Summer</td>\n",
              "      <td>Athina</td>\n",
              "      <td>Australia</td>\n",
              "      <td>AUS</td>\n",
              "      <td>Australia</td>\n",
              "      <td>35698</td>\n",
              "      <td>Edwin Harold \"Teddy\" Flack</td>\n",
              "      <td>M</td>\n",
              "      <td>22.0</td>\n",
              "      <td>NaN</td>\n",
              "      <td>NaN</td>\n",
              "      <td>Athletics</td>\n",
              "      <td>Athletics Men's 1,500 metres</td>\n",
              "      <td>Gold</td>\n",
              "    </tr>\n",
              "    <tr>\n",
              "      <th>1</th>\n",
              "      <td>1896</td>\n",
              "      <td>Summer</td>\n",
              "      <td>Athina</td>\n",
              "      <td>Australia</td>\n",
              "      <td>AUS</td>\n",
              "      <td>Australia</td>\n",
              "      <td>35698</td>\n",
              "      <td>Edwin Harold \"Teddy\" Flack</td>\n",
              "      <td>M</td>\n",
              "      <td>22.0</td>\n",
              "      <td>NaN</td>\n",
              "      <td>NaN</td>\n",
              "      <td>Athletics</td>\n",
              "      <td>Athletics Men's 800 metres</td>\n",
              "      <td>Gold</td>\n",
              "    </tr>\n",
              "    <tr>\n",
              "      <th>2</th>\n",
              "      <td>1896</td>\n",
              "      <td>Summer</td>\n",
              "      <td>Athina</td>\n",
              "      <td>Australia</td>\n",
              "      <td>AUS</td>\n",
              "      <td>Australia</td>\n",
              "      <td>35698</td>\n",
              "      <td>Edwin Harold \"Teddy\" Flack</td>\n",
              "      <td>M</td>\n",
              "      <td>22.0</td>\n",
              "      <td>NaN</td>\n",
              "      <td>NaN</td>\n",
              "      <td>Athletics</td>\n",
              "      <td>Athletics Men's Marathon</td>\n",
              "      <td>NaN</td>\n",
              "    </tr>\n",
              "    <tr>\n",
              "      <th>3</th>\n",
              "      <td>1896</td>\n",
              "      <td>Summer</td>\n",
              "      <td>Athina</td>\n",
              "      <td>Australia</td>\n",
              "      <td>AUS</td>\n",
              "      <td>Australia/Great Britain</td>\n",
              "      <td>35698</td>\n",
              "      <td>Edwin Harold \"Teddy\" Flack</td>\n",
              "      <td>M</td>\n",
              "      <td>22.0</td>\n",
              "      <td>NaN</td>\n",
              "      <td>NaN</td>\n",
              "      <td>Tennis</td>\n",
              "      <td>Tennis Men's Doubles</td>\n",
              "      <td>Bronze</td>\n",
              "    </tr>\n",
              "    <tr>\n",
              "      <th>4</th>\n",
              "      <td>1896</td>\n",
              "      <td>Summer</td>\n",
              "      <td>Athina</td>\n",
              "      <td>Australia</td>\n",
              "      <td>AUS</td>\n",
              "      <td>Australia</td>\n",
              "      <td>35698</td>\n",
              "      <td>Edwin Harold \"Teddy\" Flack</td>\n",
              "      <td>M</td>\n",
              "      <td>22.0</td>\n",
              "      <td>NaN</td>\n",
              "      <td>NaN</td>\n",
              "      <td>Tennis</td>\n",
              "      <td>Tennis Men's Singles</td>\n",
              "      <td>NaN</td>\n",
              "    </tr>\n",
              "  </tbody>\n",
              "</table>\n",
              "</div>"
            ],
            "text/plain": [
              "    ano  edicao cidade_sede  ...    esporte                        evento medalha\n",
              "0  1896  Summer      Athina  ...  Athletics  Athletics Men's 1,500 metres    Gold\n",
              "1  1896  Summer      Athina  ...  Athletics    Athletics Men's 800 metres    Gold\n",
              "2  1896  Summer      Athina  ...  Athletics      Athletics Men's Marathon     NaN\n",
              "3  1896  Summer      Athina  ...     Tennis          Tennis Men's Doubles  Bronze\n",
              "4  1896  Summer      Athina  ...     Tennis          Tennis Men's Singles     NaN\n",
              "\n",
              "[5 rows x 15 columns]"
            ]
          },
          "metadata": {},
          "execution_count": 17
        }
      ]
    },
    {
      "cell_type": "code",
      "metadata": {
        "id": "MY_NEDUpRmR-"
      },
      "source": [
        "# Usamos as bibliotecas CSV e Pandas para abrir os dados"
      ],
      "execution_count": null,
      "outputs": []
    },
    {
      "cell_type": "code",
      "metadata": {
        "colab": {
          "base_uri": "https://localhost:8080/"
        },
        "id": "ynYR28a9mOUS",
        "outputId": "191810c0-cb45-4b71-92ea-6b2fc7b9b67a"
      },
      "source": [
        "print(dados.describe()) "
      ],
      "execution_count": 18,
      "outputs": [
        {
          "output_type": "stream",
          "name": "stdout",
          "text": [
            "                 ano      id_atleta  ...         altura           peso\n",
            "count  269718.000000  269718.000000  ...  210917.000000  208204.000000\n",
            "mean     1978.626862   68263.967381  ...     175.338953      70.699237\n",
            "std        29.747764   39026.038321  ...      10.518507      14.348346\n",
            "min      1896.000000       1.000000  ...     127.000000      25.000000\n",
            "25%      1960.000000   34654.250000  ...     168.000000      60.000000\n",
            "50%      1988.000000   68233.000000  ...     175.000000      70.000000\n",
            "75%      2002.000000  102111.000000  ...     183.000000      79.000000\n",
            "max      2016.000000  135571.000000  ...     226.000000     214.000000\n",
            "\n",
            "[8 rows x 5 columns]\n"
          ]
        }
      ]
    },
    {
      "cell_type": "markdown",
      "metadata": {
        "id": "_jdxGsgwsA8K"
      },
      "source": [
        "# usamos a função describe para fazer uma análise geral dos dados numéricos"
      ]
    },
    {
      "cell_type": "code",
      "metadata": {
        "colab": {
          "base_uri": "https://localhost:8080/",
          "height": 290
        },
        "id": "5pPnv7Q5k7IZ",
        "outputId": "b14a64ff-f8a3-42b1-bcba-86786d70c977"
      },
      "source": [
        "dados.describe()"
      ],
      "execution_count": 19,
      "outputs": [
        {
          "output_type": "execute_result",
          "data": {
            "text/html": [
              "<div>\n",
              "<style scoped>\n",
              "    .dataframe tbody tr th:only-of-type {\n",
              "        vertical-align: middle;\n",
              "    }\n",
              "\n",
              "    .dataframe tbody tr th {\n",
              "        vertical-align: top;\n",
              "    }\n",
              "\n",
              "    .dataframe thead th {\n",
              "        text-align: right;\n",
              "    }\n",
              "</style>\n",
              "<table border=\"1\" class=\"dataframe\">\n",
              "  <thead>\n",
              "    <tr style=\"text-align: right;\">\n",
              "      <th></th>\n",
              "      <th>ano</th>\n",
              "      <th>id_atleta</th>\n",
              "      <th>idade</th>\n",
              "      <th>altura</th>\n",
              "      <th>peso</th>\n",
              "    </tr>\n",
              "  </thead>\n",
              "  <tbody>\n",
              "    <tr>\n",
              "      <th>count</th>\n",
              "      <td>269718.000000</td>\n",
              "      <td>269718.000000</td>\n",
              "      <td>260410.000000</td>\n",
              "      <td>210917.000000</td>\n",
              "      <td>208204.000000</td>\n",
              "    </tr>\n",
              "    <tr>\n",
              "      <th>mean</th>\n",
              "      <td>1978.626862</td>\n",
              "      <td>68263.967381</td>\n",
              "      <td>25.454487</td>\n",
              "      <td>175.338953</td>\n",
              "      <td>70.699237</td>\n",
              "    </tr>\n",
              "    <tr>\n",
              "      <th>std</th>\n",
              "      <td>29.747764</td>\n",
              "      <td>39026.038321</td>\n",
              "      <td>6.163208</td>\n",
              "      <td>10.518507</td>\n",
              "      <td>14.348346</td>\n",
              "    </tr>\n",
              "    <tr>\n",
              "      <th>min</th>\n",
              "      <td>1896.000000</td>\n",
              "      <td>1.000000</td>\n",
              "      <td>10.000000</td>\n",
              "      <td>127.000000</td>\n",
              "      <td>25.000000</td>\n",
              "    </tr>\n",
              "    <tr>\n",
              "      <th>25%</th>\n",
              "      <td>1960.000000</td>\n",
              "      <td>34654.250000</td>\n",
              "      <td>21.000000</td>\n",
              "      <td>168.000000</td>\n",
              "      <td>60.000000</td>\n",
              "    </tr>\n",
              "    <tr>\n",
              "      <th>50%</th>\n",
              "      <td>1988.000000</td>\n",
              "      <td>68233.000000</td>\n",
              "      <td>24.000000</td>\n",
              "      <td>175.000000</td>\n",
              "      <td>70.000000</td>\n",
              "    </tr>\n",
              "    <tr>\n",
              "      <th>75%</th>\n",
              "      <td>2002.000000</td>\n",
              "      <td>102111.000000</td>\n",
              "      <td>28.000000</td>\n",
              "      <td>183.000000</td>\n",
              "      <td>79.000000</td>\n",
              "    </tr>\n",
              "    <tr>\n",
              "      <th>max</th>\n",
              "      <td>2016.000000</td>\n",
              "      <td>135571.000000</td>\n",
              "      <td>97.000000</td>\n",
              "      <td>226.000000</td>\n",
              "      <td>214.000000</td>\n",
              "    </tr>\n",
              "  </tbody>\n",
              "</table>\n",
              "</div>"
            ],
            "text/plain": [
              "                 ano      id_atleta  ...         altura           peso\n",
              "count  269718.000000  269718.000000  ...  210917.000000  208204.000000\n",
              "mean     1978.626862   68263.967381  ...     175.338953      70.699237\n",
              "std        29.747764   39026.038321  ...      10.518507      14.348346\n",
              "min      1896.000000       1.000000  ...     127.000000      25.000000\n",
              "25%      1960.000000   34654.250000  ...     168.000000      60.000000\n",
              "50%      1988.000000   68233.000000  ...     175.000000      70.000000\n",
              "75%      2002.000000  102111.000000  ...     183.000000      79.000000\n",
              "max      2016.000000  135571.000000  ...     226.000000     214.000000\n",
              "\n",
              "[8 rows x 5 columns]"
            ]
          },
          "metadata": {},
          "execution_count": 19
        }
      ]
    },
    {
      "cell_type": "code",
      "metadata": {
        "colab": {
          "base_uri": "https://localhost:8080/"
        },
        "id": "mTdY2d6bppCW",
        "outputId": "cfa78645-f666-41ee-8880-73736734c38c"
      },
      "source": [
        "dados.select_dtypes(include=['number']).head"
      ],
      "execution_count": 20,
      "outputs": [
        {
          "output_type": "execute_result",
          "data": {
            "text/plain": [
              "<bound method NDFrame.head of          ano  id_atleta  idade  altura  peso\n",
              "0       1896      35698   22.0     NaN   NaN\n",
              "1       1896      35698   22.0     NaN   NaN\n",
              "2       1896      35698   22.0     NaN   NaN\n",
              "3       1896      35698   22.0     NaN   NaN\n",
              "4       1896      35698   22.0     NaN   NaN\n",
              "...      ...        ...    ...     ...   ...\n",
              "269713  2016     133071   21.0   156.0  50.0\n",
              "269714  2016     133346   26.0   166.0  50.0\n",
              "269715  2016     133346   26.0   166.0  50.0\n",
              "269716  2016     134826   22.0   168.0  54.0\n",
              "269717  2016     120422   24.0   184.0  72.0\n",
              "\n",
              "[269718 rows x 5 columns]>"
            ]
          },
          "metadata": {},
          "execution_count": 20
        }
      ]
    },
    {
      "cell_type": "markdown",
      "metadata": {
        "id": "t0hmbpf3sMCI"
      },
      "source": [
        "abrimos a base de dados referente a idade"
      ]
    },
    {
      "cell_type": "code",
      "metadata": {
        "colab": {
          "base_uri": "https://localhost:8080/"
        },
        "id": "UOWStifbTbRQ",
        "outputId": "455192f6-3c2d-41a2-f1a7-a9f50f3ad661"
      },
      "source": [
        "dados['idade']"
      ],
      "execution_count": 22,
      "outputs": [
        {
          "output_type": "execute_result",
          "data": {
            "text/plain": [
              "0         22.0\n",
              "1         22.0\n",
              "2         22.0\n",
              "3         22.0\n",
              "4         22.0\n",
              "          ... \n",
              "269713    21.0\n",
              "269714    26.0\n",
              "269715    26.0\n",
              "269716    22.0\n",
              "269717    24.0\n",
              "Name: idade, Length: 269718, dtype: float64"
            ]
          },
          "metadata": {},
          "execution_count": 22
        }
      ]
    },
    {
      "cell_type": "markdown",
      "metadata": {
        "id": "UtJxP9N3sRIE"
      },
      "source": [
        "usamos a função describe para fazer a análise dos dados de idade"
      ]
    },
    {
      "cell_type": "code",
      "metadata": {
        "colab": {
          "base_uri": "https://localhost:8080/"
        },
        "id": "5ixh1z1JWl7x",
        "outputId": "b99f0d8a-b0f6-41a4-8105-207923975d01"
      },
      "source": [
        "dados['idade'].describe()"
      ],
      "execution_count": 23,
      "outputs": [
        {
          "output_type": "execute_result",
          "data": {
            "text/plain": [
              "count    260410.000000\n",
              "mean         25.454487\n",
              "std           6.163208\n",
              "min          10.000000\n",
              "25%          21.000000\n",
              "50%          24.000000\n",
              "75%          28.000000\n",
              "max          97.000000\n",
              "Name: idade, dtype: float64"
            ]
          },
          "metadata": {},
          "execution_count": 23
        }
      ]
    },
    {
      "cell_type": "markdown",
      "metadata": {
        "id": "8eGrHZCjGSbk"
      },
      "source": [
        ""
      ]
    },
    {
      "cell_type": "markdown",
      "metadata": {
        "id": "lqF_Xa-WGyOi"
      },
      "source": [
        "A base tem dados tem pouco mais de 26 mil observações. O que corresponde a 26 mil medalhistas. Como um atleta pode ter ganhado mais de uma medalha, o número de observações é superior ao número de atletas. O atleta mais jovem a ganhar uma medalha tinha 10 anos. O mais velho tinha 97 anos. Apesar dessa diferença, há uma grande concentração de medalhistas em uma faixa etária. Até 25% dos atletas (primeiro quartil) tinha até 21 anos. Metade (mediana) alcançava a idade máxima de 24 anos. 75% dos atletas (terceiro quartil) tinha 28 anos. A idade média ficou em 25 anos. Indo além da análise de dados, uma pesquisa na internet ajuda a explicar as idades máxima e mínima encontradas na tabela. O atleta mais jovem, de 10 anos, foi o grego Dimitrios Loundras, que ganhou a medalha de bronze nas barras paralelas por equipes da ginástica artística, nas Olímpiadas de 1896, em Atenas. Já a idade do atleta mais velho registrada nas reportagens não corresponde à base de dados. O noticiário indica que o medalhista mais velho foi o sueco Oscar Swahn, que ganhou a medalha de prata aos 73 anos, nas Olimpíadas da Antuérpia, em 1920, na prova de tiro ao veado. É provável que exista um erro na base de dados. "
      ]
    },
    {
      "cell_type": "code",
      "metadata": {
        "colab": {
          "base_uri": "https://localhost:8080/",
          "height": 408
        },
        "id": "-z-FZYdpnMhS",
        "outputId": "796a669f-6d11-40bd-fa90-d3d37060004f"
      },
      "source": [
        "ouro = dados.loc[dados['medalha'] == 'Gold']\n",
        "ouro\n"
      ],
      "execution_count": null,
      "outputs": [
        {
          "output_type": "execute_result",
          "data": {
            "text/html": [
              "<div>\n",
              "<style scoped>\n",
              "    .dataframe tbody tr th:only-of-type {\n",
              "        vertical-align: middle;\n",
              "    }\n",
              "\n",
              "    .dataframe tbody tr th {\n",
              "        vertical-align: top;\n",
              "    }\n",
              "\n",
              "    .dataframe thead th {\n",
              "        text-align: right;\n",
              "    }\n",
              "</style>\n",
              "<table border=\"1\" class=\"dataframe\">\n",
              "  <thead>\n",
              "    <tr style=\"text-align: right;\">\n",
              "      <th></th>\n",
              "      <th>ano</th>\n",
              "      <th>edicao</th>\n",
              "      <th>cidade_sede</th>\n",
              "      <th>pais</th>\n",
              "      <th>delegacao</th>\n",
              "      <th>equipe</th>\n",
              "      <th>id_atleta</th>\n",
              "      <th>nome_atleta</th>\n",
              "      <th>sexo</th>\n",
              "      <th>idade</th>\n",
              "      <th>altura</th>\n",
              "      <th>peso</th>\n",
              "      <th>esporte</th>\n",
              "      <th>evento</th>\n",
              "      <th>medalha</th>\n",
              "    </tr>\n",
              "  </thead>\n",
              "  <tbody>\n",
              "    <tr>\n",
              "      <th>0</th>\n",
              "      <td>1896</td>\n",
              "      <td>Summer</td>\n",
              "      <td>Athina</td>\n",
              "      <td>Australia</td>\n",
              "      <td>AUS</td>\n",
              "      <td>Australia</td>\n",
              "      <td>35698.0</td>\n",
              "      <td>Edwin Harold \"Teddy\" Flack</td>\n",
              "      <td>M</td>\n",
              "      <td>22.0</td>\n",
              "      <td>NaN</td>\n",
              "      <td>NaN</td>\n",
              "      <td>Athletics</td>\n",
              "      <td>Athletics Men's 1,500 metres</td>\n",
              "      <td>Gold</td>\n",
              "    </tr>\n",
              "    <tr>\n",
              "      <th>1</th>\n",
              "      <td>1896</td>\n",
              "      <td>Summer</td>\n",
              "      <td>Athina</td>\n",
              "      <td>Australia</td>\n",
              "      <td>AUS</td>\n",
              "      <td>Australia</td>\n",
              "      <td>35698.0</td>\n",
              "      <td>Edwin Harold \"Teddy\" Flack</td>\n",
              "      <td>M</td>\n",
              "      <td>22.0</td>\n",
              "      <td>NaN</td>\n",
              "      <td>NaN</td>\n",
              "      <td>Athletics</td>\n",
              "      <td>Athletics Men's 800 metres</td>\n",
              "      <td>Gold</td>\n",
              "    </tr>\n",
              "    <tr>\n",
              "      <th>7</th>\n",
              "      <td>1896</td>\n",
              "      <td>Summer</td>\n",
              "      <td>Athina</td>\n",
              "      <td>Austria</td>\n",
              "      <td>AUT</td>\n",
              "      <td>Austria</td>\n",
              "      <td>85477.0</td>\n",
              "      <td>Paul Neumann (-Newman)</td>\n",
              "      <td>M</td>\n",
              "      <td>20.0</td>\n",
              "      <td>NaN</td>\n",
              "      <td>NaN</td>\n",
              "      <td>Swimming</td>\n",
              "      <td>Swimming Men's 500 metres Freestyle</td>\n",
              "      <td>Gold</td>\n",
              "    </tr>\n",
              "    <tr>\n",
              "      <th>10</th>\n",
              "      <td>1896</td>\n",
              "      <td>Summer</td>\n",
              "      <td>Athina</td>\n",
              "      <td>Austria</td>\n",
              "      <td>AUT</td>\n",
              "      <td>Austria</td>\n",
              "      <td>107006.0</td>\n",
              "      <td>Felix Adolf Schmal</td>\n",
              "      <td>M</td>\n",
              "      <td>23.0</td>\n",
              "      <td>NaN</td>\n",
              "      <td>NaN</td>\n",
              "      <td>Cycling</td>\n",
              "      <td>Cycling Men's 12-Hours Race</td>\n",
              "      <td>Gold</td>\n",
              "    </tr>\n",
              "    <tr>\n",
              "      <th>19</th>\n",
              "      <td>1896</td>\n",
              "      <td>Summer</td>\n",
              "      <td>Athina</td>\n",
              "      <td>Denmark</td>\n",
              "      <td>DEN</td>\n",
              "      <td>Denmark</td>\n",
              "      <td>54456.0</td>\n",
              "      <td>Alexander Viggo Jensen</td>\n",
              "      <td>M</td>\n",
              "      <td>21.0</td>\n",
              "      <td>NaN</td>\n",
              "      <td>NaN</td>\n",
              "      <td>Weightlifting</td>\n",
              "      <td>Weightlifting Men's Unlimited, Two Hands</td>\n",
              "      <td>Gold</td>\n",
              "    </tr>\n",
              "    <tr>\n",
              "      <th>...</th>\n",
              "      <td>...</td>\n",
              "      <td>...</td>\n",
              "      <td>...</td>\n",
              "      <td>...</td>\n",
              "      <td>...</td>\n",
              "      <td>...</td>\n",
              "      <td>...</td>\n",
              "      <td>...</td>\n",
              "      <td>...</td>\n",
              "      <td>...</td>\n",
              "      <td>...</td>\n",
              "      <td>...</td>\n",
              "      <td>...</td>\n",
              "      <td>...</td>\n",
              "      <td>...</td>\n",
              "    </tr>\n",
              "    <tr>\n",
              "      <th>184080</th>\n",
              "      <td>1998</td>\n",
              "      <td>Winter</td>\n",
              "      <td>Nagano</td>\n",
              "      <td>USA</td>\n",
              "      <td>USA</td>\n",
              "      <td>United States</td>\n",
              "      <td>15605.0</td>\n",
              "      <td>Elizabeth \"Lisa\" Brown-Miller</td>\n",
              "      <td>F</td>\n",
              "      <td>31.0</td>\n",
              "      <td>155.0</td>\n",
              "      <td>57.0</td>\n",
              "      <td>Ice Hockey</td>\n",
              "      <td>Ice Hockey Women's Ice Hockey</td>\n",
              "      <td>Gold</td>\n",
              "    </tr>\n",
              "    <tr>\n",
              "      <th>184084</th>\n",
              "      <td>1998</td>\n",
              "      <td>Winter</td>\n",
              "      <td>Nagano</td>\n",
              "      <td>USA</td>\n",
              "      <td>USA</td>\n",
              "      <td>United States</td>\n",
              "      <td>17038.0</td>\n",
              "      <td>Karyn L. Bye (-Dietz)</td>\n",
              "      <td>F</td>\n",
              "      <td>26.0</td>\n",
              "      <td>173.0</td>\n",
              "      <td>75.0</td>\n",
              "      <td>Ice Hockey</td>\n",
              "      <td>Ice Hockey Women's Ice Hockey</td>\n",
              "      <td>Gold</td>\n",
              "    </tr>\n",
              "    <tr>\n",
              "      <th>184099</th>\n",
              "      <td>1998</td>\n",
              "      <td>Winter</td>\n",
              "      <td>Nagano</td>\n",
              "      <td>USA</td>\n",
              "      <td>USA</td>\n",
              "      <td>United States</td>\n",
              "      <td>23614.0</td>\n",
              "      <td>Colleen Coyne</td>\n",
              "      <td>F</td>\n",
              "      <td>26.0</td>\n",
              "      <td>160.0</td>\n",
              "      <td>59.0</td>\n",
              "      <td>Ice Hockey</td>\n",
              "      <td>Ice Hockey Women's Ice Hockey</td>\n",
              "      <td>Gold</td>\n",
              "    </tr>\n",
              "    <tr>\n",
              "      <th>184105</th>\n",
              "      <td>1998</td>\n",
              "      <td>Winter</td>\n",
              "      <td>Nagano</td>\n",
              "      <td>USA</td>\n",
              "      <td>USA</td>\n",
              "      <td>United States</td>\n",
              "      <td>26939.0</td>\n",
              "      <td>Sara DeCosta (-Hayes)</td>\n",
              "      <td>F</td>\n",
              "      <td>20.0</td>\n",
              "      <td>178.0</td>\n",
              "      <td>59.0</td>\n",
              "      <td>Ice Hockey</td>\n",
              "      <td>Ice Hockey Women's Ice Hockey</td>\n",
              "      <td>Gold</td>\n",
              "    </tr>\n",
              "    <tr>\n",
              "      <th>184113</th>\n",
              "      <td>1998</td>\n",
              "      <td>Winter</td>\n",
              "      <td>Nagano</td>\n",
              "      <td>USA</td>\n",
              "      <td>USA</td>\n",
              "      <td>United States</td>\n",
              "      <td>30699.0</td>\n",
              "      <td>Patricia \"Tricia\" Dunn-Luoma</td>\n",
              "      <td>F</td>\n",
              "      <td>23.0</td>\n",
              "      <td>173.0</td>\n",
              "      <td>66.0</td>\n",
              "      <td>Ice Hockey</td>\n",
              "      <td>Ice Hockey Women's Ice Hockey</td>\n",
              "      <td>Gold</td>\n",
              "    </tr>\n",
              "  </tbody>\n",
              "</table>\n",
              "<p>9344 rows × 15 columns</p>\n",
              "</div>"
            ],
            "text/plain": [
              "         ano  edicao  ...                                    evento medalha\n",
              "0       1896  Summer  ...              Athletics Men's 1,500 metres    Gold\n",
              "1       1896  Summer  ...                Athletics Men's 800 metres    Gold\n",
              "7       1896  Summer  ...       Swimming Men's 500 metres Freestyle    Gold\n",
              "10      1896  Summer  ...               Cycling Men's 12-Hours Race    Gold\n",
              "19      1896  Summer  ...  Weightlifting Men's Unlimited, Two Hands    Gold\n",
              "...      ...     ...  ...                                       ...     ...\n",
              "184080  1998  Winter  ...             Ice Hockey Women's Ice Hockey    Gold\n",
              "184084  1998  Winter  ...             Ice Hockey Women's Ice Hockey    Gold\n",
              "184099  1998  Winter  ...             Ice Hockey Women's Ice Hockey    Gold\n",
              "184105  1998  Winter  ...             Ice Hockey Women's Ice Hockey    Gold\n",
              "184113  1998  Winter  ...             Ice Hockey Women's Ice Hockey    Gold\n",
              "\n",
              "[9344 rows x 15 columns]"
            ]
          },
          "metadata": {},
          "execution_count": 8
        }
      ]
    },
    {
      "cell_type": "markdown",
      "metadata": {
        "id": "4EwRRKZqLDR3"
      },
      "source": [
        "Analisamos também o perfil dos ganhadores das medalhas de ouro, usando a função dados.loc, que permite recortar linhas da tabela. Com a função describe, pudemos analisar os dados. Chegamos à conclusão que a idade média dos vencedores é 25,7 anos. O mais jovem venceu com 13 anos e o mais velho, com 64 anos. Até 25% ganharam com no máximo 22 anos. Metade foi com até 25 anos e 75% com 28 anos. A altura média dos vencedores foi de 1,77 metro. O mais baixo tinha 1,36m e o mais alto, 2,23 metros. Já em relação ao peso, o mais leve tinha 30 quilos, o mais pesado, 170 quilos. Metade dos vencedores pesava até 74 quilos, mesmo valor da média."
      ]
    },
    {
      "cell_type": "code",
      "metadata": {
        "colab": {
          "base_uri": "https://localhost:8080/",
          "height": 290
        },
        "id": "nSlNnNf3n-5x",
        "outputId": "058d0aa6-3081-4971-a624-5b3c331230a3"
      },
      "source": [
        "ouro.describe()"
      ],
      "execution_count": null,
      "outputs": [
        {
          "output_type": "execute_result",
          "data": {
            "text/html": [
              "<div>\n",
              "<style scoped>\n",
              "    .dataframe tbody tr th:only-of-type {\n",
              "        vertical-align: middle;\n",
              "    }\n",
              "\n",
              "    .dataframe tbody tr th {\n",
              "        vertical-align: top;\n",
              "    }\n",
              "\n",
              "    .dataframe thead th {\n",
              "        text-align: right;\n",
              "    }\n",
              "</style>\n",
              "<table border=\"1\" class=\"dataframe\">\n",
              "  <thead>\n",
              "    <tr style=\"text-align: right;\">\n",
              "      <th></th>\n",
              "      <th>ano</th>\n",
              "      <th>id_atleta</th>\n",
              "      <th>idade</th>\n",
              "      <th>altura</th>\n",
              "      <th>peso</th>\n",
              "    </tr>\n",
              "  </thead>\n",
              "  <tbody>\n",
              "    <tr>\n",
              "      <th>count</th>\n",
              "      <td>9344.000000</td>\n",
              "      <td>9344.000000</td>\n",
              "      <td>9197.000000</td>\n",
              "      <td>6519.000000</td>\n",
              "      <td>6267.000000</td>\n",
              "    </tr>\n",
              "    <tr>\n",
              "      <th>mean</th>\n",
              "      <td>1958.139127</td>\n",
              "      <td>68676.346426</td>\n",
              "      <td>25.752202</td>\n",
              "      <td>177.774659</td>\n",
              "      <td>74.171533</td>\n",
              "    </tr>\n",
              "    <tr>\n",
              "      <th>std</th>\n",
              "      <td>30.146318</td>\n",
              "      <td>38661.476624</td>\n",
              "      <td>6.193437</td>\n",
              "      <td>10.794263</td>\n",
              "      <td>14.682199</td>\n",
              "    </tr>\n",
              "    <tr>\n",
              "      <th>min</th>\n",
              "      <td>1896.000000</td>\n",
              "      <td>4.000000</td>\n",
              "      <td>13.000000</td>\n",
              "      <td>136.000000</td>\n",
              "      <td>30.000000</td>\n",
              "    </tr>\n",
              "    <tr>\n",
              "      <th>25%</th>\n",
              "      <td>1932.000000</td>\n",
              "      <td>35690.500000</td>\n",
              "      <td>22.000000</td>\n",
              "      <td>170.000000</td>\n",
              "      <td>64.000000</td>\n",
              "    </tr>\n",
              "    <tr>\n",
              "      <th>50%</th>\n",
              "      <td>1964.000000</td>\n",
              "      <td>68621.500000</td>\n",
              "      <td>25.000000</td>\n",
              "      <td>178.000000</td>\n",
              "      <td>74.000000</td>\n",
              "    </tr>\n",
              "    <tr>\n",
              "      <th>75%</th>\n",
              "      <td>1984.000000</td>\n",
              "      <td>102806.000000</td>\n",
              "      <td>28.000000</td>\n",
              "      <td>185.000000</td>\n",
              "      <td>83.000000</td>\n",
              "    </tr>\n",
              "    <tr>\n",
              "      <th>max</th>\n",
              "      <td>1998.000000</td>\n",
              "      <td>135553.000000</td>\n",
              "      <td>64.000000</td>\n",
              "      <td>223.000000</td>\n",
              "      <td>170.000000</td>\n",
              "    </tr>\n",
              "  </tbody>\n",
              "</table>\n",
              "</div>"
            ],
            "text/plain": [
              "               ano      id_atleta        idade       altura         peso\n",
              "count  9344.000000    9344.000000  9197.000000  6519.000000  6267.000000\n",
              "mean   1958.139127   68676.346426    25.752202   177.774659    74.171533\n",
              "std      30.146318   38661.476624     6.193437    10.794263    14.682199\n",
              "min    1896.000000       4.000000    13.000000   136.000000    30.000000\n",
              "25%    1932.000000   35690.500000    22.000000   170.000000    64.000000\n",
              "50%    1964.000000   68621.500000    25.000000   178.000000    74.000000\n",
              "75%    1984.000000  102806.000000    28.000000   185.000000    83.000000\n",
              "max    1998.000000  135553.000000    64.000000   223.000000   170.000000"
            ]
          },
          "metadata": {},
          "execution_count": 9
        }
      ]
    }
  ]
}