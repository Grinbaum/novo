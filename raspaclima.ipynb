{
  "nbformat": 4,
  "nbformat_minor": 0,
  "metadata": {
    "colab": {
      "name": "raspaclima.ipynb",
      "provenance": [],
      "collapsed_sections": [],
      "authorship_tag": "ABX9TyMOBzBZdh22N7QjIml7etsR",
      "include_colab_link": true
    },
    "kernelspec": {
      "name": "python3",
      "display_name": "Python 3"
    },
    "language_info": {
      "name": "python"
    }
  },
  "cells": [
    {
      "cell_type": "markdown",
      "metadata": {
        "id": "view-in-github",
        "colab_type": "text"
      },
      "source": [
        "<a href=\"https://colab.research.google.com/github/Grinbaum/novo/blob/main/raspaclima.ipynb\" target=\"_parent\"><img src=\"https://colab.research.google.com/assets/colab-badge.svg\" alt=\"Open In Colab\"/></a>"
      ]
    },
    {
      "cell_type": "code",
      "metadata": {
        "id": "YZP-8bOtEkj8"
      },
      "source": [
        "import requests # importo o requests para poder abrir a url"
      ],
      "execution_count": 23,
      "outputs": []
    },
    {
      "cell_type": "code",
      "metadata": {
        "id": "YpEXHdQyEuqU"
      },
      "source": [
        "url = 'https://www.climatempo.com.br/previsao-do-tempo/cidade/558/saopaulo-sp'# pego a url do climatempo  \n",
        "resposta = requests.get(url)"
      ],
      "execution_count": 24,
      "outputs": []
    },
    {
      "cell_type": "code",
      "metadata": {
        "id": "3qplOx_7W4Kf"
      },
      "source": [
        "from bs4 import BeautifulSoup # importo o beautifulsoup para parsear (ler, interpreta e usar pedaços do código html)"
      ],
      "execution_count": 25,
      "outputs": []
    },
    {
      "cell_type": "code",
      "metadata": {
        "id": "C1zGcLK-E0i2"
      },
      "source": [
        "soup = BeautifulSoup(resposta.text, 'html.parser') # rodo o beautifulsoup para parsear o código html e dar resposta em texto"
      ],
      "execution_count": 26,
      "outputs": []
    },
    {
      "cell_type": "code",
      "metadata": {
        "id": "9VlEFJyqN9a_"
      },
      "source": [
        "dia = str(10)"
      ],
      "execution_count": 27,
      "outputs": []
    },
    {
      "cell_type": "code",
      "metadata": {
        "id": "dxTf9RFoFhHP"
      },
      "source": [
        "tag_temp_minima = soup.find('span', {\"id\": \"min-temp-1\"}) # defino a variável temperatura mínima, usando o beautifulsoup, uso a chave span, de tagueamento, e o id, para localizar o atributo específico"
      ],
      "execution_count": 28,
      "outputs": []
    },
    {
      "cell_type": "code",
      "metadata": {
        "colab": {
          "base_uri": "https://localhost:8080/"
        },
        "id": "HXVJbG7mGdEp",
        "outputId": "1392e790-c3a4-4fc6-ac1b-fad5a9878f18"
      },
      "source": [
        "tag_temp_minima.__dict__#faço um dicionário da temperatura mínima\n"
      ],
      "execution_count": 29,
      "outputs": [
        {
          "output_type": "execute_result",
          "data": {
            "text/plain": [
              "{'attrs': {'class': ['-gray-light'], 'id': 'min-temp-1'},\n",
              " 'can_be_empty_element': False,\n",
              " 'contents': ['15°'],\n",
              " 'hidden': False,\n",
              " 'known_xml': False,\n",
              " 'name': 'span',\n",
              " 'namespace': None,\n",
              " 'next_element': '15°',\n",
              " 'next_sibling': '\\n',\n",
              " 'parent': <p class=\"-gray _flex _align-center\">\n",
              " <img alt=\"Temperatura mínima\" class=\"_margin-r-5 _margin-b-3\" src=\"/dist/images/v2/svg/ic-arrow-min.svg\"/>\n",
              " <span class=\"-gray-light\" id=\"min-temp-1\">15°</span>\n",
              " <img alt=\"Temperatura máxima\" class=\"_margin-l-10 _margin-r-5 _margin-b-3\" src=\"/dist/images/v2/svg/ic-arrow-max.svg\"/>\n",
              " <span class=\"-gray-light\" id=\"max-temp-1\">18°</span>\n",
              " </p>,\n",
              " 'parser_class': bs4.BeautifulSoup,\n",
              " 'prefix': None,\n",
              " 'preserve_whitespace_tags': {'pre', 'textarea'},\n",
              " 'previous_element': '\\n',\n",
              " 'previous_sibling': '\\n'}"
            ]
          },
          "metadata": {},
          "execution_count": 29
        }
      ]
    },
    {
      "cell_type": "code",
      "metadata": {
        "id": "uB_kd87EHgp8"
      },
      "source": [
        "temp = tag_temp_minima.contents[0] #crio uma variável para temperatura?"
      ],
      "execution_count": 30,
      "outputs": []
    },
    {
      "cell_type": "code",
      "metadata": {
        "colab": {
          "base_uri": "https://localhost:8080/"
        },
        "id": "aBc4ri_MISNf",
        "outputId": "fa050c9a-2385-4e6f-9c5d-8cc3c1272401"
      },
      "source": [
        "print(f'A temperatura é {temp}') # publico a variável que encontrei"
      ],
      "execution_count": 31,
      "outputs": [
        {
          "output_type": "stream",
          "name": "stdout",
          "text": [
            "A temperatura é 15°\n"
          ]
        }
      ]
    },
    {
      "cell_type": "code",
      "metadata": {
        "id": "p7P-uCPeI21o"
      },
      "source": [
        "tag_temp_maxima = soup.find('span', {\"id\": \"max-temp-1\"})"
      ],
      "execution_count": 32,
      "outputs": []
    },
    {
      "cell_type": "code",
      "metadata": {
        "colab": {
          "base_uri": "https://localhost:8080/"
        },
        "id": "eo8wuEcpJAVK",
        "outputId": "d718d841-31f7-4f05-8f93-d1acd56b7cf9"
      },
      "source": [
        "tag_temp_maxima.__dict__"
      ],
      "execution_count": 33,
      "outputs": [
        {
          "output_type": "execute_result",
          "data": {
            "text/plain": [
              "{'attrs': {'class': ['-gray-light'], 'id': 'max-temp-1'},\n",
              " 'can_be_empty_element': False,\n",
              " 'contents': ['18°'],\n",
              " 'hidden': False,\n",
              " 'known_xml': False,\n",
              " 'name': 'span',\n",
              " 'namespace': None,\n",
              " 'next_element': '18°',\n",
              " 'next_sibling': '\\n',\n",
              " 'parent': <p class=\"-gray _flex _align-center\">\n",
              " <img alt=\"Temperatura mínima\" class=\"_margin-r-5 _margin-b-3\" src=\"/dist/images/v2/svg/ic-arrow-min.svg\"/>\n",
              " <span class=\"-gray-light\" id=\"min-temp-1\">15°</span>\n",
              " <img alt=\"Temperatura máxima\" class=\"_margin-l-10 _margin-r-5 _margin-b-3\" src=\"/dist/images/v2/svg/ic-arrow-max.svg\"/>\n",
              " <span class=\"-gray-light\" id=\"max-temp-1\">18°</span>\n",
              " </p>,\n",
              " 'parser_class': bs4.BeautifulSoup,\n",
              " 'prefix': None,\n",
              " 'preserve_whitespace_tags': {'pre', 'textarea'},\n",
              " 'previous_element': '\\n',\n",
              " 'previous_sibling': '\\n'}"
            ]
          },
          "metadata": {},
          "execution_count": 33
        }
      ]
    },
    {
      "cell_type": "code",
      "metadata": {
        "id": "tgdbBoYTJGEL"
      },
      "source": [
        "temp2 = tag_temp_maxima.contents[0]"
      ],
      "execution_count": 34,
      "outputs": []
    },
    {
      "cell_type": "code",
      "metadata": {
        "colab": {
          "base_uri": "https://localhost:8080/"
        },
        "id": "akac6JNgWRj3",
        "outputId": "d7c64faa-d176-4830-8e99-fbe783bd81a0"
      },
      "source": [
        "print(f'A temperatura é {temp2}')"
      ],
      "execution_count": 35,
      "outputs": [
        {
          "output_type": "stream",
          "name": "stdout",
          "text": [
            "A temperatura é 18°\n"
          ]
        }
      ]
    },
    {
      "cell_type": "code",
      "metadata": {
        "id": "St0o1AzgWWnu"
      },
      "source": [
        "import pandas as pd # importo o pandas para criar o dataframe\n"
      ],
      "execution_count": 36,
      "outputs": []
    },
    {
      "cell_type": "code",
      "metadata": {
        "id": "NR6lvdQ0YJgg"
      },
      "source": [
        "dia = dia # defino o valor da linha"
      ],
      "execution_count": 37,
      "outputs": []
    },
    {
      "cell_type": "code",
      "metadata": {
        "id": "epjccTfNYVGP"
      },
      "source": [
        "temperatura_minima = temp # defino o valor da primeira coluna"
      ],
      "execution_count": 38,
      "outputs": []
    },
    {
      "cell_type": "code",
      "metadata": {
        "id": "KuAhNcr7ZnXl"
      },
      "source": [
        "temperatura_maxima = temp2 # defino o valor da segunda coluna"
      ],
      "execution_count": 39,
      "outputs": []
    },
    {
      "cell_type": "code",
      "metadata": {
        "id": "IRtaFGpBYzEV"
      },
      "source": [
        "clima = {'dia': [dia], 'temperatura_minima':[temperatura_minima], 'temperatura_maxima': [temperatura_maxima]} #defino colunas e linhas na tabela"
      ],
      "execution_count": 40,
      "outputs": []
    },
    {
      "cell_type": "code",
      "metadata": {
        "id": "xyDA4GjeZfui"
      },
      "source": [
        "tabela_clima = pd.DataFrame(clima) # crio a tabela"
      ],
      "execution_count": 41,
      "outputs": []
    },
    {
      "cell_type": "code",
      "metadata": {
        "colab": {
          "base_uri": "https://localhost:8080/"
        },
        "id": "dlJUmG5zak9A",
        "outputId": "41ae4fab-7e57-4f3b-8cd8-76ee3208ff90"
      },
      "source": [
        "type(tabela_clima) # vejo o tipo da tabela?"
      ],
      "execution_count": 42,
      "outputs": [
        {
          "output_type": "execute_result",
          "data": {
            "text/plain": [
              "pandas.core.frame.DataFrame"
            ]
          },
          "metadata": {},
          "execution_count": 42
        }
      ]
    },
    {
      "cell_type": "code",
      "metadata": {
        "colab": {
          "base_uri": "https://localhost:8080/",
          "height": 78
        },
        "id": "vVyYNnSnax3w",
        "outputId": "a10e32d9-f31d-4c15-81f0-da952c7e8738"
      },
      "source": [
        "tabela_clima # mostro a tabela"
      ],
      "execution_count": 43,
      "outputs": [
        {
          "output_type": "execute_result",
          "data": {
            "text/html": [
              "<div>\n",
              "<style scoped>\n",
              "    .dataframe tbody tr th:only-of-type {\n",
              "        vertical-align: middle;\n",
              "    }\n",
              "\n",
              "    .dataframe tbody tr th {\n",
              "        vertical-align: top;\n",
              "    }\n",
              "\n",
              "    .dataframe thead th {\n",
              "        text-align: right;\n",
              "    }\n",
              "</style>\n",
              "<table border=\"1\" class=\"dataframe\">\n",
              "  <thead>\n",
              "    <tr style=\"text-align: right;\">\n",
              "      <th></th>\n",
              "      <th>dia</th>\n",
              "      <th>temperatura_minima</th>\n",
              "      <th>temperatura_maxima</th>\n",
              "    </tr>\n",
              "  </thead>\n",
              "  <tbody>\n",
              "    <tr>\n",
              "      <th>0</th>\n",
              "      <td>10</td>\n",
              "      <td>15°</td>\n",
              "      <td>18°</td>\n",
              "    </tr>\n",
              "  </tbody>\n",
              "</table>\n",
              "</div>"
            ],
            "text/plain": [
              "  dia temperatura_minima temperatura_maxima\n",
              "0  10                15°                18°"
            ]
          },
          "metadata": {},
          "execution_count": 43
        }
      ]
    },
    {
      "cell_type": "code",
      "metadata": {
        "id": "ZEtLbP8AcXii"
      },
      "source": [
        "tabela_clima. to_csv(\"tabela_clima.csv\") # transformamos a tabela num arquivo csv"
      ],
      "execution_count": 44,
      "outputs": []
    },
    {
      "cell_type": "code",
      "metadata": {
        "id": "3w2i9LdHc_j8"
      },
      "source": [
        "tabela_clima = pd.read_csv(\"tabela_clima.csv\") # abrimos no csv"
      ],
      "execution_count": 45,
      "outputs": []
    },
    {
      "cell_type": "code",
      "metadata": {
        "colab": {
          "base_uri": "https://localhost:8080/",
          "height": 78
        },
        "id": "OMVXkeNbdjjW",
        "outputId": "282be536-3c55-4580-d982-3a9bdea1dfd8"
      },
      "source": [
        "tabela_clima"
      ],
      "execution_count": 46,
      "outputs": [
        {
          "output_type": "execute_result",
          "data": {
            "text/html": [
              "<div>\n",
              "<style scoped>\n",
              "    .dataframe tbody tr th:only-of-type {\n",
              "        vertical-align: middle;\n",
              "    }\n",
              "\n",
              "    .dataframe tbody tr th {\n",
              "        vertical-align: top;\n",
              "    }\n",
              "\n",
              "    .dataframe thead th {\n",
              "        text-align: right;\n",
              "    }\n",
              "</style>\n",
              "<table border=\"1\" class=\"dataframe\">\n",
              "  <thead>\n",
              "    <tr style=\"text-align: right;\">\n",
              "      <th></th>\n",
              "      <th>Unnamed: 0</th>\n",
              "      <th>dia</th>\n",
              "      <th>temperatura_minima</th>\n",
              "      <th>temperatura_maxima</th>\n",
              "    </tr>\n",
              "  </thead>\n",
              "  <tbody>\n",
              "    <tr>\n",
              "      <th>0</th>\n",
              "      <td>0</td>\n",
              "      <td>10</td>\n",
              "      <td>15°</td>\n",
              "      <td>18°</td>\n",
              "    </tr>\n",
              "  </tbody>\n",
              "</table>\n",
              "</div>"
            ],
            "text/plain": [
              "   Unnamed: 0  dia temperatura_minima temperatura_maxima\n",
              "0           0   10                15°                18°"
            ]
          },
          "metadata": {},
          "execution_count": 46
        }
      ]
    },
    {
      "cell_type": "code",
      "metadata": {
        "id": "SBqYPbGzeCT6"
      },
      "source": [
        "tabela_clima = pd.read_csv(\"tabela_clima.csv\", index_col=0) # usamos o  parâmetro index para tirar a coluna extra criada pelo csv"
      ],
      "execution_count": 47,
      "outputs": []
    },
    {
      "cell_type": "code",
      "metadata": {
        "colab": {
          "base_uri": "https://localhost:8080/",
          "height": 78
        },
        "id": "YuRE-MqcesQU",
        "outputId": "84f188bc-c507-4547-ec68-b7ccbf7d06a7"
      },
      "source": [
        "tabela_clima"
      ],
      "execution_count": 49,
      "outputs": [
        {
          "output_type": "execute_result",
          "data": {
            "text/html": [
              "<div>\n",
              "<style scoped>\n",
              "    .dataframe tbody tr th:only-of-type {\n",
              "        vertical-align: middle;\n",
              "    }\n",
              "\n",
              "    .dataframe tbody tr th {\n",
              "        vertical-align: top;\n",
              "    }\n",
              "\n",
              "    .dataframe thead th {\n",
              "        text-align: right;\n",
              "    }\n",
              "</style>\n",
              "<table border=\"1\" class=\"dataframe\">\n",
              "  <thead>\n",
              "    <tr style=\"text-align: right;\">\n",
              "      <th></th>\n",
              "      <th>dia</th>\n",
              "      <th>temperatura_minima</th>\n",
              "      <th>temperatura_maxima</th>\n",
              "    </tr>\n",
              "  </thead>\n",
              "  <tbody>\n",
              "    <tr>\n",
              "      <th>0</th>\n",
              "      <td>10</td>\n",
              "      <td>15°</td>\n",
              "      <td>18°</td>\n",
              "    </tr>\n",
              "  </tbody>\n",
              "</table>\n",
              "</div>"
            ],
            "text/plain": [
              "   dia temperatura_minima temperatura_maxima\n",
              "0   10                15°                18°"
            ]
          },
          "metadata": {},
          "execution_count": 49
        }
      ]
    }
  ]
}