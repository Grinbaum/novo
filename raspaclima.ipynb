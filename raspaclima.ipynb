{
  "nbformat": 4,
  "nbformat_minor": 0,
  "metadata": {
    "colab": {
      "name": "raspaclima.ipynb",
      "provenance": [],
      "collapsed_sections": [],
      "toc_visible": true,
      "authorship_tag": "ABX9TyMrejOJBLahIqai3t1y20Uj",
      "include_colab_link": true
    },
    "kernelspec": {
      "name": "python3",
      "display_name": "Python 3"
    },
    "language_info": {
      "name": "python"
    }
  },
  "cells": [
    {
      "cell_type": "markdown",
      "metadata": {
        "id": "view-in-github",
        "colab_type": "text"
      },
      "source": [
        "<a href=\"https://colab.research.google.com/github/Grinbaum/novo/blob/main/raspaclima.ipynb\" target=\"_parent\"><img src=\"https://colab.research.google.com/assets/colab-badge.svg\" alt=\"Open In Colab\"/></a>"
      ]
    },
    {
      "cell_type": "code",
      "metadata": {
        "id": "YZP-8bOtEkj8"
      },
      "source": [
        "import requests # importo o requests para poder abrir a url"
      ],
      "execution_count": 1,
      "outputs": []
    },
    {
      "cell_type": "code",
      "metadata": {
        "id": "YpEXHdQyEuqU"
      },
      "source": [
        "url = 'https://www.climatempo.com.br/previsao-do-tempo/cidade/558/saopaulo-sp'# pego a url do climatempo  \n",
        "resposta = requests.get(url)"
      ],
      "execution_count": 31,
      "outputs": []
    },
    {
      "cell_type": "code",
      "metadata": {
        "id": "3qplOx_7W4Kf"
      },
      "source": [
        "from bs4 import BeautifulSoup # importo o beautifulsoup para parsear (ler, interpreta e usar pedaços do código html)"
      ],
      "execution_count": 32,
      "outputs": []
    },
    {
      "cell_type": "code",
      "metadata": {
        "id": "C1zGcLK-E0i2"
      },
      "source": [
        "soup = BeautifulSoup(resposta.text, 'html.parser') # rodo o beautifulsoup para parsear o código html e dar resposta em texto"
      ],
      "execution_count": 33,
      "outputs": []
    },
    {
      "cell_type": "code",
      "metadata": {
        "id": "dxTf9RFoFhHP"
      },
      "source": [
        "tag_temp_minima = soup.find('span', {\"id\": \"min-temp-1\"}) # defino a variável temperatura mínima, usando o beautifulsoup, uso a chave span, de tagueamento, e o id, para localizar o atributo específico"
      ],
      "execution_count": 34,
      "outputs": []
    },
    {
      "cell_type": "code",
      "metadata": {
        "colab": {
          "base_uri": "https://localhost:8080/"
        },
        "id": "HXVJbG7mGdEp",
        "outputId": "0a99b772-9394-416c-a7e5-9b8dbf1f4d1b"
      },
      "source": [
        "tag_temp_minima.__dict__#faço um dicionário da temperatura mínima\n"
      ],
      "execution_count": 35,
      "outputs": [
        {
          "output_type": "execute_result",
          "data": {
            "text/plain": [
              "{'attrs': {'class': ['-gray-light'], 'id': 'min-temp-1'},\n",
              " 'can_be_empty_element': False,\n",
              " 'contents': ['15°'],\n",
              " 'hidden': False,\n",
              " 'known_xml': False,\n",
              " 'name': 'span',\n",
              " 'namespace': None,\n",
              " 'next_element': '15°',\n",
              " 'next_sibling': '\\n',\n",
              " 'parent': <p class=\"-gray _flex _align-center\">\n",
              " <img alt=\"Temperatura mínima\" class=\"_margin-r-5 _margin-b-3\" src=\"/dist/images/v2/svg/ic-arrow-min.svg\"/>\n",
              " <span class=\"-gray-light\" id=\"min-temp-1\">15°</span>\n",
              " <img alt=\"Temperatura máxima\" class=\"_margin-l-10 _margin-r-5 _margin-b-3\" src=\"/dist/images/v2/svg/ic-arrow-max.svg\"/>\n",
              " <span class=\"-gray-light\" id=\"max-temp-1\">22°</span>\n",
              " </p>,\n",
              " 'parser_class': bs4.BeautifulSoup,\n",
              " 'prefix': None,\n",
              " 'preserve_whitespace_tags': {'pre', 'textarea'},\n",
              " 'previous_element': '\\n',\n",
              " 'previous_sibling': '\\n'}"
            ]
          },
          "metadata": {},
          "execution_count": 35
        }
      ]
    },
    {
      "cell_type": "code",
      "metadata": {
        "id": "uB_kd87EHgp8"
      },
      "source": [
        "temp = tag_temp_minima.contents[0] #crio uma variável para temperatura?"
      ],
      "execution_count": 36,
      "outputs": []
    },
    {
      "cell_type": "code",
      "metadata": {
        "colab": {
          "base_uri": "https://localhost:8080/"
        },
        "id": "aBc4ri_MISNf",
        "outputId": "c19977b1-53ef-4c2c-f973-88c6efa48134"
      },
      "source": [
        "print(f'A temperatura é {temp}') # publico a variável que encontrei"
      ],
      "execution_count": 37,
      "outputs": [
        {
          "output_type": "stream",
          "name": "stdout",
          "text": [
            "A temperatura é 15°\n"
          ]
        }
      ]
    },
    {
      "cell_type": "code",
      "metadata": {
        "id": "p7P-uCPeI21o"
      },
      "source": [
        "tag_temp_maxima = soup.find('span', {\"id\": \"max-temp-1\"})"
      ],
      "execution_count": 38,
      "outputs": []
    },
    {
      "cell_type": "code",
      "metadata": {
        "colab": {
          "base_uri": "https://localhost:8080/"
        },
        "id": "eo8wuEcpJAVK",
        "outputId": "dd2f9be9-9d96-4989-b502-bb73b16daa76"
      },
      "source": [
        "tag_temp_maxima.__dict__"
      ],
      "execution_count": 40,
      "outputs": [
        {
          "output_type": "execute_result",
          "data": {
            "text/plain": [
              "{'attrs': {'class': ['-gray-light'], 'id': 'max-temp-1'},\n",
              " 'can_be_empty_element': False,\n",
              " 'contents': ['22°'],\n",
              " 'hidden': False,\n",
              " 'known_xml': False,\n",
              " 'name': 'span',\n",
              " 'namespace': None,\n",
              " 'next_element': '22°',\n",
              " 'next_sibling': '\\n',\n",
              " 'parent': <p class=\"-gray _flex _align-center\">\n",
              " <img alt=\"Temperatura mínima\" class=\"_margin-r-5 _margin-b-3\" src=\"/dist/images/v2/svg/ic-arrow-min.svg\"/>\n",
              " <span class=\"-gray-light\" id=\"min-temp-1\">15°</span>\n",
              " <img alt=\"Temperatura máxima\" class=\"_margin-l-10 _margin-r-5 _margin-b-3\" src=\"/dist/images/v2/svg/ic-arrow-max.svg\"/>\n",
              " <span class=\"-gray-light\" id=\"max-temp-1\">22°</span>\n",
              " </p>,\n",
              " 'parser_class': bs4.BeautifulSoup,\n",
              " 'prefix': None,\n",
              " 'preserve_whitespace_tags': {'pre', 'textarea'},\n",
              " 'previous_element': '\\n',\n",
              " 'previous_sibling': '\\n'}"
            ]
          },
          "metadata": {},
          "execution_count": 40
        }
      ]
    },
    {
      "cell_type": "code",
      "metadata": {
        "id": "tgdbBoYTJGEL"
      },
      "source": [
        "temp2 = tag_temp_maxima.contents[0]"
      ],
      "execution_count": 13,
      "outputs": []
    },
    {
      "cell_type": "code",
      "metadata": {
        "colab": {
          "base_uri": "https://localhost:8080/"
        },
        "id": "akac6JNgWRj3",
        "outputId": "d97bf2ac-8206-4fb2-e856-a61212887468"
      },
      "source": [
        "print(f'A temperatura é {temp2}')"
      ],
      "execution_count": 14,
      "outputs": [
        {
          "output_type": "stream",
          "name": "stdout",
          "text": [
            "A temperatura é 22°\n"
          ]
        }
      ]
    },
    {
      "cell_type": "code",
      "metadata": {
        "id": "St0o1AzgWWnu"
      },
      "source": [
        "import pandas as pd # importo o pandas para criar o dataframe\n"
      ],
      "execution_count": 15,
      "outputs": []
    },
    {
      "cell_type": "code",
      "metadata": {
        "id": "NR6lvdQ0YJgg"
      },
      "source": [
        "cidade = ['sao_paulo'] # defino o valor da linha"
      ],
      "execution_count": 16,
      "outputs": []
    },
    {
      "cell_type": "code",
      "metadata": {
        "id": "epjccTfNYVGP"
      },
      "source": [
        "temperatura_minima = ['15º'] # defino o valor da primeira coluna"
      ],
      "execution_count": 41,
      "outputs": []
    },
    {
      "cell_type": "code",
      "metadata": {
        "id": "KuAhNcr7ZnXl"
      },
      "source": [
        "temperatura_maxima = ['22º'] # defino o valor da segunda coluna"
      ],
      "execution_count": 42,
      "outputs": []
    },
    {
      "cell_type": "code",
      "metadata": {
        "id": "IRtaFGpBYzEV"
      },
      "source": [
        "clima = {'cidade':cidade, 'temperatura_minima':temperatura_minima, 'temperatura_maxima': temperatura_maxima} #defino colunas e linhas na tabela"
      ],
      "execution_count": 43,
      "outputs": []
    },
    {
      "cell_type": "code",
      "metadata": {
        "id": "xyDA4GjeZfui"
      },
      "source": [
        "tabela_clima = pd.DataFrame(clima) # crio a tabela"
      ],
      "execution_count": 44,
      "outputs": []
    },
    {
      "cell_type": "code",
      "metadata": {
        "colab": {
          "base_uri": "https://localhost:8080/"
        },
        "id": "dlJUmG5zak9A",
        "outputId": "ba8a5771-fa7b-4788-a710-68dcc1e19537"
      },
      "source": [
        "type(tabela_clima) # vejo o tipo da tabela?"
      ],
      "execution_count": 45,
      "outputs": [
        {
          "output_type": "execute_result",
          "data": {
            "text/plain": [
              "pandas.core.frame.DataFrame"
            ]
          },
          "metadata": {},
          "execution_count": 45
        }
      ]
    },
    {
      "cell_type": "code",
      "metadata": {
        "colab": {
          "base_uri": "https://localhost:8080/",
          "height": 78
        },
        "id": "vVyYNnSnax3w",
        "outputId": "6b84456e-df49-413d-b8f6-69fbdbe8d6e2"
      },
      "source": [
        "tabela_clima # mostro a tabela"
      ],
      "execution_count": 46,
      "outputs": [
        {
          "output_type": "execute_result",
          "data": {
            "text/html": [
              "<div>\n",
              "<style scoped>\n",
              "    .dataframe tbody tr th:only-of-type {\n",
              "        vertical-align: middle;\n",
              "    }\n",
              "\n",
              "    .dataframe tbody tr th {\n",
              "        vertical-align: top;\n",
              "    }\n",
              "\n",
              "    .dataframe thead th {\n",
              "        text-align: right;\n",
              "    }\n",
              "</style>\n",
              "<table border=\"1\" class=\"dataframe\">\n",
              "  <thead>\n",
              "    <tr style=\"text-align: right;\">\n",
              "      <th></th>\n",
              "      <th>cidade</th>\n",
              "      <th>temperatura_minima</th>\n",
              "      <th>temperatura_maxima</th>\n",
              "    </tr>\n",
              "  </thead>\n",
              "  <tbody>\n",
              "    <tr>\n",
              "      <th>0</th>\n",
              "      <td>sao_paulo</td>\n",
              "      <td>15º</td>\n",
              "      <td>22º</td>\n",
              "    </tr>\n",
              "  </tbody>\n",
              "</table>\n",
              "</div>"
            ],
            "text/plain": [
              "      cidade temperatura_minima temperatura_maxima\n",
              "0  sao_paulo                15º                22º"
            ]
          },
          "metadata": {},
          "execution_count": 46
        }
      ]
    },
    {
      "cell_type": "code",
      "metadata": {
        "id": "ZEtLbP8AcXii"
      },
      "source": [
        "tabela_clima. to_csv(\"tabela_clima.csv\") # transformamos a tabela num arquivo csv"
      ],
      "execution_count": 48,
      "outputs": []
    },
    {
      "cell_type": "code",
      "metadata": {
        "id": "3w2i9LdHc_j8"
      },
      "source": [
        "tabela_clima = pd.read_csv(\"tabela_clima.csv\") # abrimos no csv"
      ],
      "execution_count": 49,
      "outputs": []
    },
    {
      "cell_type": "code",
      "metadata": {
        "colab": {
          "base_uri": "https://localhost:8080/",
          "height": 78
        },
        "id": "OMVXkeNbdjjW",
        "outputId": "e2434a0f-be29-4cff-f395-df3181e74e1a"
      },
      "source": [
        "tabela_clima"
      ],
      "execution_count": 50,
      "outputs": [
        {
          "output_type": "execute_result",
          "data": {
            "text/html": [
              "<div>\n",
              "<style scoped>\n",
              "    .dataframe tbody tr th:only-of-type {\n",
              "        vertical-align: middle;\n",
              "    }\n",
              "\n",
              "    .dataframe tbody tr th {\n",
              "        vertical-align: top;\n",
              "    }\n",
              "\n",
              "    .dataframe thead th {\n",
              "        text-align: right;\n",
              "    }\n",
              "</style>\n",
              "<table border=\"1\" class=\"dataframe\">\n",
              "  <thead>\n",
              "    <tr style=\"text-align: right;\">\n",
              "      <th></th>\n",
              "      <th>Unnamed: 0</th>\n",
              "      <th>cidade</th>\n",
              "      <th>temperatura_minima</th>\n",
              "      <th>temperatura_maxima</th>\n",
              "    </tr>\n",
              "  </thead>\n",
              "  <tbody>\n",
              "    <tr>\n",
              "      <th>0</th>\n",
              "      <td>0</td>\n",
              "      <td>sao_paulo</td>\n",
              "      <td>15º</td>\n",
              "      <td>22º</td>\n",
              "    </tr>\n",
              "  </tbody>\n",
              "</table>\n",
              "</div>"
            ],
            "text/plain": [
              "   Unnamed: 0     cidade temperatura_minima temperatura_maxima\n",
              "0           0  sao_paulo                15º                22º"
            ]
          },
          "metadata": {},
          "execution_count": 50
        }
      ]
    },
    {
      "cell_type": "code",
      "metadata": {
        "id": "SBqYPbGzeCT6"
      },
      "source": [
        "tabela_clima = pd.read_csv(\"tabela_clima.csv\", index_col=0) # usamos o  parâmetro index para tirar a coluna extra criada pelo csv"
      ],
      "execution_count": 51,
      "outputs": []
    },
    {
      "cell_type": "code",
      "metadata": {
        "colab": {
          "base_uri": "https://localhost:8080/",
          "height": 78
        },
        "id": "YuRE-MqcesQU",
        "outputId": "e0742d0f-292c-4eb6-d3e0-84a8698717a3"
      },
      "source": [
        "tabela_clima"
      ],
      "execution_count": 52,
      "outputs": [
        {
          "output_type": "execute_result",
          "data": {
            "text/html": [
              "<div>\n",
              "<style scoped>\n",
              "    .dataframe tbody tr th:only-of-type {\n",
              "        vertical-align: middle;\n",
              "    }\n",
              "\n",
              "    .dataframe tbody tr th {\n",
              "        vertical-align: top;\n",
              "    }\n",
              "\n",
              "    .dataframe thead th {\n",
              "        text-align: right;\n",
              "    }\n",
              "</style>\n",
              "<table border=\"1\" class=\"dataframe\">\n",
              "  <thead>\n",
              "    <tr style=\"text-align: right;\">\n",
              "      <th></th>\n",
              "      <th>cidade</th>\n",
              "      <th>temperatura_minima</th>\n",
              "      <th>temperatura_maxima</th>\n",
              "    </tr>\n",
              "  </thead>\n",
              "  <tbody>\n",
              "    <tr>\n",
              "      <th>0</th>\n",
              "      <td>sao_paulo</td>\n",
              "      <td>15º</td>\n",
              "      <td>22º</td>\n",
              "    </tr>\n",
              "  </tbody>\n",
              "</table>\n",
              "</div>"
            ],
            "text/plain": [
              "      cidade temperatura_minima temperatura_maxima\n",
              "0  sao_paulo                15º                22º"
            ]
          },
          "metadata": {},
          "execution_count": 52
        }
      ]
    }
  ]
}