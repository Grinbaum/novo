{
  "nbformat": 4,
  "nbformat_minor": 0,
  "metadata": {
    "colab": {
      "name": "Raspaclima3.ipynb",
      "provenance": [],
      "collapsed_sections": [],
      "authorship_tag": "ABX9TyOIgmGIi1ajZ45gA/j3vqCt",
      "include_colab_link": true
    },
    "kernelspec": {
      "name": "python3",
      "display_name": "Python 3"
    },
    "language_info": {
      "name": "python"
    }
  },
  "cells": [
    {
      "cell_type": "markdown",
      "metadata": {
        "id": "view-in-github",
        "colab_type": "text"
      },
      "source": [
        "<a href=\"https://colab.research.google.com/github/Grinbaum/novo/blob/main/Raspaclima3.ipynb\" target=\"_parent\"><img src=\"https://colab.research.google.com/assets/colab-badge.svg\" alt=\"Open In Colab\"/></a>"
      ]
    },
    {
      "cell_type": "code",
      "metadata": {
        "id": "F53bxGlumAGB"
      },
      "source": [
        "def raspar_clima():\n",
        "    url = 'https://www.climatempo.com.br/previsao-do-tempo/cidade/558/saopaulo-sp'# defino a página de onde quero tirar informações  \n",
        "    import requests\n",
        "    resposta = requests.get(url) # uso o requests para puxar a url\n",
        "    from bs4 import BeautifulSoup\n",
        "    soup = BeautifulSoup(resposta.text, 'html.parser') # rodo o beautifulsoup para parsear o código html e dar resposta em texto\n",
        "    temperatura_minima = soup.find('span', {\"id\": \"min-temp-1\"}) # busco a temperatura mínima, usando o beautifulsoup, uso a chave span, de tagueamento, e o id, para localizar o atributo específico\n",
        "    temperatura_minima.__dict__\n",
        "    temp = temperatura_minima.contents[0] # defino a variável para temperatura mínima\n",
        "    temperatura_maxima = soup.find('span', {\"id\": \"max-temp-1\"}) # repito o processo com a temperatura máxima\n",
        "    temp2 = temperatura_maxima.contents[0] # defino a variável para temperatura máxima\n",
        "    import datetime # importo o datetime para montar a tabela dia a dia\n",
        "    dia = datetime.datetime.today().day # defino a variável dia usando o datetime\n",
        "    clima = {'dia':dia, 'temperatura_minima':temp, 'temperatura_maxima': temp2} #defino colunas e linhas na tabela\n",
        "    return clima"
      ],
      "execution_count": 45,
      "outputs": []
    },
    {
      "cell_type": "code",
      "metadata": {
        "colab": {
          "base_uri": "https://localhost:8080/"
        },
        "id": "oimsSxrNbaRA",
        "outputId": "964a957d-32d5-4b0f-931f-fff1a6e5318c"
      },
      "source": [
        "raspar_clima() # exibo o resultado da função"
      ],
      "execution_count": 46,
      "outputs": [
        {
          "output_type": "execute_result",
          "data": {
            "text/plain": [
              "{'dia': 10, 'temperatura_maxima': '18°', 'temperatura_minima': '15°'}"
            ]
          },
          "metadata": {},
          "execution_count": 46
        }
      ]
    },
    {
      "cell_type": "code",
      "metadata": {
        "id": "fOEzp5pKr42V"
      },
      "source": [
        "dia = '10' # defino a variável dia\n"
      ],
      "execution_count": 47,
      "outputs": []
    },
    {
      "cell_type": "code",
      "metadata": {
        "id": "-HIND6EIL8H2"
      },
      "source": [
        "temperatura_minima = '15º'"
      ],
      "execution_count": 48,
      "outputs": []
    },
    {
      "cell_type": "code",
      "metadata": {
        "id": "VCwkdI1OMNq-"
      },
      "source": [
        "temperatura_maxima = '18º'"
      ],
      "execution_count": 49,
      "outputs": []
    },
    {
      "cell_type": "code",
      "metadata": {
        "id": "5KBd4KJ_qMAX"
      },
      "source": [
        "import pandas as pd # importo o pandas para criar o dataframe\n"
      ],
      "execution_count": 50,
      "outputs": []
    },
    {
      "cell_type": "code",
      "metadata": {
        "id": "x3iCX7HqqqTU"
      },
      "source": [
        "clima = {'dia':[dia], 'temperatura mínima':temperatura_minima, 'temperatura máxima':temperatura_maxima} #defino colunas e linhas na tabela"
      ],
      "execution_count": 51,
      "outputs": []
    },
    {
      "cell_type": "code",
      "metadata": {
        "id": "OwPhVTbVqw-3"
      },
      "source": [
        "tabela_clima_funcao = pd.DataFrame(clima) # crio a tabela"
      ],
      "execution_count": 52,
      "outputs": []
    },
    {
      "cell_type": "code",
      "metadata": {
        "colab": {
          "base_uri": "https://localhost:8080/"
        },
        "id": "S63cDB0nq0uu",
        "outputId": "6ec48077-746d-4cab-c999-04498db1b4a9"
      },
      "source": [
        "type(tabela_clima_funcao) # vejo o tipo da tabela"
      ],
      "execution_count": 53,
      "outputs": [
        {
          "output_type": "execute_result",
          "data": {
            "text/plain": [
              "pandas.core.frame.DataFrame"
            ]
          },
          "metadata": {},
          "execution_count": 53
        }
      ]
    },
    {
      "cell_type": "code",
      "metadata": {
        "colab": {
          "base_uri": "https://localhost:8080/",
          "height": 78
        },
        "id": "bVGvXLQUq54b",
        "outputId": "be9e91ab-7428-4c6c-910c-25084ae54648"
      },
      "source": [
        "tabela_clima_funcao # mostro a tabela"
      ],
      "execution_count": 54,
      "outputs": [
        {
          "output_type": "execute_result",
          "data": {
            "text/html": [
              "<div>\n",
              "<style scoped>\n",
              "    .dataframe tbody tr th:only-of-type {\n",
              "        vertical-align: middle;\n",
              "    }\n",
              "\n",
              "    .dataframe tbody tr th {\n",
              "        vertical-align: top;\n",
              "    }\n",
              "\n",
              "    .dataframe thead th {\n",
              "        text-align: right;\n",
              "    }\n",
              "</style>\n",
              "<table border=\"1\" class=\"dataframe\">\n",
              "  <thead>\n",
              "    <tr style=\"text-align: right;\">\n",
              "      <th></th>\n",
              "      <th>dia</th>\n",
              "      <th>temperatura mínima</th>\n",
              "      <th>temperatura máxima</th>\n",
              "    </tr>\n",
              "  </thead>\n",
              "  <tbody>\n",
              "    <tr>\n",
              "      <th>0</th>\n",
              "      <td>10</td>\n",
              "      <td>15º</td>\n",
              "      <td>18º</td>\n",
              "    </tr>\n",
              "  </tbody>\n",
              "</table>\n",
              "</div>"
            ],
            "text/plain": [
              "  dia temperatura mínima temperatura máxima\n",
              "0  10                15º                18º"
            ]
          },
          "metadata": {},
          "execution_count": 54
        }
      ]
    },
    {
      "cell_type": "code",
      "metadata": {
        "id": "fCUlupu_vz7k"
      },
      "source": [
        "import csv # importo o csv para transformar a tabela"
      ],
      "execution_count": 55,
      "outputs": []
    },
    {
      "cell_type": "code",
      "metadata": {
        "id": "ViIRDodnq-Jk"
      },
      "source": [
        "tabela_clima_funcao.to_csv(\"tabela_clima.csv\") # passo a tabela para csv"
      ],
      "execution_count": 56,
      "outputs": []
    },
    {
      "cell_type": "code",
      "metadata": {
        "id": "0y7QQ1NppnxL"
      },
      "source": [
        "tabela_clima_funcao = pd.read_csv(\"tabela_clima.csv\") # abro no csv"
      ],
      "execution_count": 57,
      "outputs": []
    },
    {
      "cell_type": "code",
      "metadata": {
        "colab": {
          "base_uri": "https://localhost:8080/",
          "height": 78
        },
        "id": "WwFhc-AopwSa",
        "outputId": "1343805a-e471-4070-fa42-b12a62bcedec"
      },
      "source": [
        "tabela_clima_funcao # mostro a tabela em csv"
      ],
      "execution_count": 58,
      "outputs": [
        {
          "output_type": "execute_result",
          "data": {
            "text/html": [
              "<div>\n",
              "<style scoped>\n",
              "    .dataframe tbody tr th:only-of-type {\n",
              "        vertical-align: middle;\n",
              "    }\n",
              "\n",
              "    .dataframe tbody tr th {\n",
              "        vertical-align: top;\n",
              "    }\n",
              "\n",
              "    .dataframe thead th {\n",
              "        text-align: right;\n",
              "    }\n",
              "</style>\n",
              "<table border=\"1\" class=\"dataframe\">\n",
              "  <thead>\n",
              "    <tr style=\"text-align: right;\">\n",
              "      <th></th>\n",
              "      <th>Unnamed: 0</th>\n",
              "      <th>dia</th>\n",
              "      <th>temperatura mínima</th>\n",
              "      <th>temperatura máxima</th>\n",
              "    </tr>\n",
              "  </thead>\n",
              "  <tbody>\n",
              "    <tr>\n",
              "      <th>0</th>\n",
              "      <td>0</td>\n",
              "      <td>10</td>\n",
              "      <td>15º</td>\n",
              "      <td>18º</td>\n",
              "    </tr>\n",
              "  </tbody>\n",
              "</table>\n",
              "</div>"
            ],
            "text/plain": [
              "   Unnamed: 0  dia temperatura mínima temperatura máxima\n",
              "0           0   10                15º                18º"
            ]
          },
          "metadata": {},
          "execution_count": 58
        }
      ]
    },
    {
      "cell_type": "code",
      "metadata": {
        "id": "OPGJQzSLxRCl"
      },
      "source": [
        "tabela_clima_funcao = pd.read_csv(\"tabela_clima.csv\", index_col=0) # uso o parâmetro index para limpar a coluna"
      ],
      "execution_count": 59,
      "outputs": []
    },
    {
      "cell_type": "code",
      "metadata": {
        "colab": {
          "base_uri": "https://localhost:8080/",
          "height": 78
        },
        "id": "By5l3U5SxctK",
        "outputId": "6f189d55-2005-4a9b-8044-0436fa8593b3"
      },
      "source": [
        "tabela_clima_funcao # mostro a tabela sem a coluna inútil"
      ],
      "execution_count": 60,
      "outputs": [
        {
          "output_type": "execute_result",
          "data": {
            "text/html": [
              "<div>\n",
              "<style scoped>\n",
              "    .dataframe tbody tr th:only-of-type {\n",
              "        vertical-align: middle;\n",
              "    }\n",
              "\n",
              "    .dataframe tbody tr th {\n",
              "        vertical-align: top;\n",
              "    }\n",
              "\n",
              "    .dataframe thead th {\n",
              "        text-align: right;\n",
              "    }\n",
              "</style>\n",
              "<table border=\"1\" class=\"dataframe\">\n",
              "  <thead>\n",
              "    <tr style=\"text-align: right;\">\n",
              "      <th></th>\n",
              "      <th>dia</th>\n",
              "      <th>temperatura mínima</th>\n",
              "      <th>temperatura máxima</th>\n",
              "    </tr>\n",
              "  </thead>\n",
              "  <tbody>\n",
              "    <tr>\n",
              "      <th>0</th>\n",
              "      <td>10</td>\n",
              "      <td>15º</td>\n",
              "      <td>18º</td>\n",
              "    </tr>\n",
              "  </tbody>\n",
              "</table>\n",
              "</div>"
            ],
            "text/plain": [
              "   dia temperatura mínima temperatura máxima\n",
              "0   10                15º                18º"
            ]
          },
          "metadata": {},
          "execution_count": 60
        }
      ]
    }
  ]
}