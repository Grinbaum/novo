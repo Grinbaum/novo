{
  "nbformat": 4,
  "nbformat_minor": 0,
  "metadata": {
    "colab": {
      "name": "Raspaclima3.ipynb",
      "provenance": [],
      "collapsed_sections": [],
      "authorship_tag": "ABX9TyOTC7l+BYGsBdYK5SCYTq24",
      "include_colab_link": true
    },
    "kernelspec": {
      "name": "python3",
      "display_name": "Python 3"
    },
    "language_info": {
      "name": "python"
    }
  },
  "cells": [
    {
      "cell_type": "markdown",
      "metadata": {
        "id": "view-in-github",
        "colab_type": "text"
      },
      "source": [
        "<a href=\"https://colab.research.google.com/github/Grinbaum/novo/blob/main/Raspaclima3.ipynb\" target=\"_parent\"><img src=\"https://colab.research.google.com/assets/colab-badge.svg\" alt=\"Open In Colab\"/></a>"
      ]
    },
    {
      "cell_type": "code",
      "metadata": {
        "id": "F53bxGlumAGB"
      },
      "source": [
        "def raspar_clima():\n",
        "    url = 'https://www.climatempo.com.br/previsao-do-tempo/cidade/558/saopaulo-sp'# defino a página de onde quero tirar informações  \n",
        "    resposta = requests.get(url) # uso o requests para puxar a url\n",
        "    soup = BeautifulSoup(resposta.text, 'html.parser') # rodo o beautifulsoup para parsear o código html e dar resposta em texto\n",
        "    tag_temp_minima = soup.find('span', {\"id\": \"min-temp-1\"}) # busco a temperatura mínima, usando o beautifulsoup, uso a chave span, de tagueamento, e o id, para localizar o atributo específico\n",
        "    temp = tag_temp_minima.contents[0] # defino a variável para temperatura mínima\n",
        "    tag_temp_maxima = soup.find('span', {\"id\": \"max-temp-1\"}) # repito o processo com a temperatura máxima\n",
        "    temp2 = tag_temp_maxima.contents[0] # defino a variável para temperatura máxima\n",
        "    import datetime # importo o datetime para montar a tabela dia a dia\n",
        "    dia = datetime.datetime.today().day # defino a variável dia usando o datetime\n",
        "    clima = {'dia':dia, 'temperatura_minima':temperatura_minima, 'temperatura_maxima': temperatura_maxima} #defino colunas e linhas na tabela\n",
        "    return clima"
      ],
      "execution_count": null,
      "outputs": []
    },
    {
      "cell_type": "code",
      "metadata": {
        "colab": {
          "base_uri": "https://localhost:8080/"
        },
        "id": "WmB7murhsjW6",
        "outputId": "f1df98b1-b2f4-44e0-db67-61ab4271cb03"
      },
      "source": [
        "print(clima) # mostro a tabela"
      ],
      "execution_count": null,
      "outputs": [
        {
          "output_type": "stream",
          "name": "stdout",
          "text": [
            "{'dia': ['7'], 'temperatura_minima': ['15º'], 'temperatura_maxima': ['22º']}\n"
          ]
        }
      ]
    },
    {
      "cell_type": "code",
      "metadata": {
        "id": "cRbS76OosojA"
      },
      "source": [
        ""
      ],
      "execution_count": null,
      "outputs": []
    },
    {
      "cell_type": "code",
      "metadata": {
        "id": "5KBd4KJ_qMAX"
      },
      "source": [
        "import pandas as pd # importo o pandas para criar o dataframe\n"
      ],
      "execution_count": null,
      "outputs": []
    },
    {
      "cell_type": "code",
      "metadata": {
        "id": "fnzR_4O3qYZu"
      },
      "source": [
        "dia = dia # defino o valor da linha\n"
      ],
      "execution_count": null,
      "outputs": []
    },
    {
      "cell_type": "code",
      "metadata": {
        "id": "FOFC5TDTsqtU"
      },
      "source": [
        "temp = temperatura_minima # defino o valor de uma coluna"
      ],
      "execution_count": null,
      "outputs": []
    },
    {
      "cell_type": "code",
      "metadata": {
        "id": "josy2OUBsvl6"
      },
      "source": [
        "temp2 = temperatura_maxima # defino o valor de outra coluna"
      ],
      "execution_count": null,
      "outputs": []
    },
    {
      "cell_type": "code",
      "metadata": {
        "id": "x3iCX7HqqqTU"
      },
      "source": [
        "clima = {'dia':dia, 'temperatura_minima':temperatura_minima, 'temperatura_maxima': temperatura_maxima} #defino colunas e linhas na tabela"
      ],
      "execution_count": null,
      "outputs": []
    },
    {
      "cell_type": "code",
      "metadata": {
        "id": "OwPhVTbVqw-3"
      },
      "source": [
        "tabela_clima = pd.DataFrame(clima) # crio a tabela"
      ],
      "execution_count": null,
      "outputs": []
    },
    {
      "cell_type": "code",
      "metadata": {
        "colab": {
          "base_uri": "https://localhost:8080/"
        },
        "id": "S63cDB0nq0uu",
        "outputId": "fd7d656a-b774-4625-8783-46e89bc32a46"
      },
      "source": [
        "type(tabela_clima) # vejo o tipo da tabela"
      ],
      "execution_count": null,
      "outputs": [
        {
          "output_type": "execute_result",
          "data": {
            "text/plain": [
              "pandas.core.frame.DataFrame"
            ]
          },
          "metadata": {},
          "execution_count": 29
        }
      ]
    },
    {
      "cell_type": "code",
      "metadata": {
        "colab": {
          "base_uri": "https://localhost:8080/",
          "height": 78
        },
        "id": "bVGvXLQUq54b",
        "outputId": "02c19eb8-7549-4c95-e37b-68f76fc3924b"
      },
      "source": [
        "tabela_clima # mostro a tabela"
      ],
      "execution_count": null,
      "outputs": [
        {
          "output_type": "execute_result",
          "data": {
            "text/html": [
              "<div>\n",
              "<style scoped>\n",
              "    .dataframe tbody tr th:only-of-type {\n",
              "        vertical-align: middle;\n",
              "    }\n",
              "\n",
              "    .dataframe tbody tr th {\n",
              "        vertical-align: top;\n",
              "    }\n",
              "\n",
              "    .dataframe thead th {\n",
              "        text-align: right;\n",
              "    }\n",
              "</style>\n",
              "<table border=\"1\" class=\"dataframe\">\n",
              "  <thead>\n",
              "    <tr style=\"text-align: right;\">\n",
              "      <th></th>\n",
              "      <th>dia</th>\n",
              "      <th>temperatura_minima</th>\n",
              "      <th>temperatura_maxima</th>\n",
              "    </tr>\n",
              "  </thead>\n",
              "  <tbody>\n",
              "    <tr>\n",
              "      <th>0</th>\n",
              "      <td>7</td>\n",
              "      <td>15º</td>\n",
              "      <td>22º</td>\n",
              "    </tr>\n",
              "  </tbody>\n",
              "</table>\n",
              "</div>"
            ],
            "text/plain": [
              "  dia temperatura_minima temperatura_maxima\n",
              "0   7                15º                22º"
            ]
          },
          "metadata": {},
          "execution_count": 30
        }
      ]
    },
    {
      "cell_type": "code",
      "metadata": {
        "id": "fCUlupu_vz7k"
      },
      "source": [
        "import csv # importo o csv para transformar a tabela"
      ],
      "execution_count": null,
      "outputs": []
    },
    {
      "cell_type": "code",
      "metadata": {
        "id": "ViIRDodnq-Jk"
      },
      "source": [
        "tabela_clima.to_csv(\"tabela_clima.csv\") # passo a tabela para csv"
      ],
      "execution_count": null,
      "outputs": []
    },
    {
      "cell_type": "code",
      "metadata": {
        "id": "0y7QQ1NppnxL"
      },
      "source": [
        "tabela_clima = pd.read_csv(\"tabela_clima.csv\") # abro no csv"
      ],
      "execution_count": null,
      "outputs": []
    },
    {
      "cell_type": "code",
      "metadata": {
        "colab": {
          "base_uri": "https://localhost:8080/",
          "height": 78
        },
        "id": "WwFhc-AopwSa",
        "outputId": "77c81948-36a3-4cdb-ab96-908d677c7aee"
      },
      "source": [
        "tabela_clima # mostro a tabela em csv"
      ],
      "execution_count": null,
      "outputs": [
        {
          "output_type": "execute_result",
          "data": {
            "text/html": [
              "<div>\n",
              "<style scoped>\n",
              "    .dataframe tbody tr th:only-of-type {\n",
              "        vertical-align: middle;\n",
              "    }\n",
              "\n",
              "    .dataframe tbody tr th {\n",
              "        vertical-align: top;\n",
              "    }\n",
              "\n",
              "    .dataframe thead th {\n",
              "        text-align: right;\n",
              "    }\n",
              "</style>\n",
              "<table border=\"1\" class=\"dataframe\">\n",
              "  <thead>\n",
              "    <tr style=\"text-align: right;\">\n",
              "      <th></th>\n",
              "      <th>Unnamed: 0</th>\n",
              "      <th>dia</th>\n",
              "      <th>temperatura_minima</th>\n",
              "      <th>temperatura_maxima</th>\n",
              "    </tr>\n",
              "  </thead>\n",
              "  <tbody>\n",
              "    <tr>\n",
              "      <th>0</th>\n",
              "      <td>0</td>\n",
              "      <td>7</td>\n",
              "      <td>15º</td>\n",
              "      <td>22º</td>\n",
              "    </tr>\n",
              "  </tbody>\n",
              "</table>\n",
              "</div>"
            ],
            "text/plain": [
              "   Unnamed: 0  dia temperatura_minima temperatura_maxima\n",
              "0           0    7                15º                22º"
            ]
          },
          "metadata": {},
          "execution_count": 38
        }
      ]
    },
    {
      "cell_type": "code",
      "metadata": {
        "id": "OPGJQzSLxRCl"
      },
      "source": [
        "tabela_clima2 = pd.read_csv(\"tabela_clima.csv\", index_col=0) # uso o parâmetro index para limpar a coluna"
      ],
      "execution_count": null,
      "outputs": []
    },
    {
      "cell_type": "code",
      "metadata": {
        "colab": {
          "base_uri": "https://localhost:8080/",
          "height": 78
        },
        "id": "By5l3U5SxctK",
        "outputId": "a5b8c4ea-02fd-4837-d154-c2a5684052b6"
      },
      "source": [
        "tabela_clima2 # mostro a tabela sem a coluna inútil"
      ],
      "execution_count": null,
      "outputs": [
        {
          "output_type": "execute_result",
          "data": {
            "text/html": [
              "<div>\n",
              "<style scoped>\n",
              "    .dataframe tbody tr th:only-of-type {\n",
              "        vertical-align: middle;\n",
              "    }\n",
              "\n",
              "    .dataframe tbody tr th {\n",
              "        vertical-align: top;\n",
              "    }\n",
              "\n",
              "    .dataframe thead th {\n",
              "        text-align: right;\n",
              "    }\n",
              "</style>\n",
              "<table border=\"1\" class=\"dataframe\">\n",
              "  <thead>\n",
              "    <tr style=\"text-align: right;\">\n",
              "      <th></th>\n",
              "      <th>dia</th>\n",
              "      <th>temperatura_minima</th>\n",
              "      <th>temperatura_maxima</th>\n",
              "    </tr>\n",
              "  </thead>\n",
              "  <tbody>\n",
              "    <tr>\n",
              "      <th>0</th>\n",
              "      <td>7</td>\n",
              "      <td>15º</td>\n",
              "      <td>22º</td>\n",
              "    </tr>\n",
              "  </tbody>\n",
              "</table>\n",
              "</div>"
            ],
            "text/plain": [
              "   dia temperatura_minima temperatura_maxima\n",
              "0    7                15º                22º"
            ]
          },
          "metadata": {},
          "execution_count": 43
        }
      ]
    },
    {
      "cell_type": "code",
      "metadata": {
        "id": "LdC-83GE141d"
      },
      "source": [
        ""
      ],
      "execution_count": null,
      "outputs": []
    }
  ]
}