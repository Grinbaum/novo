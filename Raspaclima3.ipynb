{
  "nbformat": 4,
  "nbformat_minor": 0,
  "metadata": {
    "colab": {
      "name": "Raspaclima3.ipynb",
      "provenance": [],
      "collapsed_sections": [],
      "authorship_tag": "ABX9TyPYp5TaBf1dJrh/GOywLb9J",
      "include_colab_link": true
    },
    "kernelspec": {
      "name": "python3",
      "display_name": "Python 3"
    },
    "language_info": {
      "name": "python"
    }
  },
  "cells": [
    {
      "cell_type": "markdown",
      "metadata": {
        "id": "view-in-github",
        "colab_type": "text"
      },
      "source": [
        "<a href=\"https://colab.research.google.com/github/Grinbaum/novo/blob/main/Raspaclima3.ipynb\" target=\"_parent\"><img src=\"https://colab.research.google.com/assets/colab-badge.svg\" alt=\"Open In Colab\"/></a>"
      ]
    },
    {
      "cell_type": "code",
      "metadata": {
        "id": "F53bxGlumAGB"
      },
      "source": [
        "def raspar_clima():\n",
        "    url = 'https://www.climatempo.com.br/previsao-do-tempo/cidade/558/saopaulo-sp'# defino a página de onde quero tirar informações  \n",
        "    import requests\n",
        "    resposta = requests.get(url) # uso o requests para puxar a url\n",
        "    from bs4 import BeautifulSoup\n",
        "    soup = BeautifulSoup(resposta.text, 'html.parser') # rodo o beautifulsoup para parsear o código html e dar resposta em texto\n",
        "    temperatura_minima = soup.find('span', {\"id\": \"min-temp-1\"}) # busco a temperatura mínima, usando o beautifulsoup, uso a chave span, de tagueamento, e o id, para localizar o atributo específico\n",
        "    temperatura_minima.__dict__\n",
        "    temp = temperatura_minima.contents[0] # defino a variável para temperatura mínima\n",
        "    temperatura_maxima = soup.find('span', {\"id\": \"max-temp-1\"}) # repito o processo com a temperatura máxima\n",
        "    temp2 = temperatura_maxima.contents[0] # defino a variável para temperatura máxima\n",
        "    import datetime # importo o datetime para montar a tabela dia a dia\n",
        "    dia = datetime.datetime.today().day # defino a variável dia usando o datetime\n",
        "    clima = {'dia':dia, 'temperatura_minima':temp, 'temperatura_maxima': temp2} #defino colunas e linhas na tabela\n",
        "    return clima"
      ],
      "execution_count": 268,
      "outputs": []
    },
    {
      "cell_type": "code",
      "metadata": {
        "colab": {
          "base_uri": "https://localhost:8080/"
        },
        "id": "oimsSxrNbaRA",
        "outputId": "496aee95-cbc6-4cba-f164-282e83bd694c"
      },
      "source": [
        "raspar_clima() # exibo o resultado da função"
      ],
      "execution_count": 269,
      "outputs": [
        {
          "output_type": "execute_result",
          "data": {
            "text/plain": [
              "{'dia': 9, 'temperatura_maxima': '20°', 'temperatura_minima': '14°'}"
            ]
          },
          "metadata": {},
          "execution_count": 269
        }
      ]
    },
    {
      "cell_type": "code",
      "metadata": {
        "id": "fOEzp5pKr42V"
      },
      "source": [
        "dia = dia # defino a variável dia"
      ],
      "execution_count": 270,
      "outputs": []
    },
    {
      "cell_type": "code",
      "metadata": {
        "id": "5KBd4KJ_qMAX"
      },
      "source": [
        "import pandas as pd # importo o pandas para criar o dataframe\n"
      ],
      "execution_count": 271,
      "outputs": []
    },
    {
      "cell_type": "code",
      "metadata": {
        "id": "x3iCX7HqqqTU"
      },
      "source": [
        "clima = {'dia':[dia], 'temperatura mínima':temp, 'temperatura máxima':temp2} #defino colunas e linhas na tabela"
      ],
      "execution_count": 272,
      "outputs": []
    },
    {
      "cell_type": "code",
      "metadata": {
        "id": "OwPhVTbVqw-3"
      },
      "source": [
        "tabela_clima = pd.DataFrame(clima) # crio a tabela"
      ],
      "execution_count": 273,
      "outputs": []
    },
    {
      "cell_type": "code",
      "metadata": {
        "colab": {
          "base_uri": "https://localhost:8080/"
        },
        "id": "S63cDB0nq0uu",
        "outputId": "cf615f25-6895-48ae-cec9-eb7d203ed61b"
      },
      "source": [
        "type(tabela_clima) # vejo o tipo da tabela"
      ],
      "execution_count": 274,
      "outputs": [
        {
          "output_type": "execute_result",
          "data": {
            "text/plain": [
              "pandas.core.frame.DataFrame"
            ]
          },
          "metadata": {},
          "execution_count": 274
        }
      ]
    },
    {
      "cell_type": "code",
      "metadata": {
        "colab": {
          "base_uri": "https://localhost:8080/",
          "height": 78
        },
        "id": "bVGvXLQUq54b",
        "outputId": "77987e46-08e6-4e5b-aa5b-da42ece7e59a"
      },
      "source": [
        "tabela_clima # mostro a tabela"
      ],
      "execution_count": 275,
      "outputs": [
        {
          "output_type": "execute_result",
          "data": {
            "text/html": [
              "<div>\n",
              "<style scoped>\n",
              "    .dataframe tbody tr th:only-of-type {\n",
              "        vertical-align: middle;\n",
              "    }\n",
              "\n",
              "    .dataframe tbody tr th {\n",
              "        vertical-align: top;\n",
              "    }\n",
              "\n",
              "    .dataframe thead th {\n",
              "        text-align: right;\n",
              "    }\n",
              "</style>\n",
              "<table border=\"1\" class=\"dataframe\">\n",
              "  <thead>\n",
              "    <tr style=\"text-align: right;\">\n",
              "      <th></th>\n",
              "      <th>dia</th>\n",
              "      <th>temperatura mínima</th>\n",
              "      <th>temperatura máxima</th>\n",
              "    </tr>\n",
              "  </thead>\n",
              "  <tbody>\n",
              "    <tr>\n",
              "      <th>0</th>\n",
              "      <td>9</td>\n",
              "      <td>14º</td>\n",
              "      <td>20º</td>\n",
              "    </tr>\n",
              "  </tbody>\n",
              "</table>\n",
              "</div>"
            ],
            "text/plain": [
              "  dia temperatura mínima temperatura máxima\n",
              "0   9                14º                20º"
            ]
          },
          "metadata": {},
          "execution_count": 275
        }
      ]
    },
    {
      "cell_type": "code",
      "metadata": {
        "id": "fCUlupu_vz7k"
      },
      "source": [
        "import csv # importo o csv para transformar a tabela"
      ],
      "execution_count": 262,
      "outputs": []
    },
    {
      "cell_type": "code",
      "metadata": {
        "id": "ViIRDodnq-Jk"
      },
      "source": [
        "tabela_clima.to_csv(\"tabela_clima.csv\") # passo a tabela para csv"
      ],
      "execution_count": 263,
      "outputs": []
    },
    {
      "cell_type": "code",
      "metadata": {
        "id": "0y7QQ1NppnxL"
      },
      "source": [
        "tabela_clima = pd.read_csv(\"tabela_clima.csv\") # abro no csv"
      ],
      "execution_count": 264,
      "outputs": []
    },
    {
      "cell_type": "code",
      "metadata": {
        "colab": {
          "base_uri": "https://localhost:8080/",
          "height": 78
        },
        "id": "WwFhc-AopwSa",
        "outputId": "963b84a6-9730-4607-bfaa-f1cd1699c1b8"
      },
      "source": [
        "tabela_clima # mostro a tabela em csv"
      ],
      "execution_count": 265,
      "outputs": [
        {
          "output_type": "execute_result",
          "data": {
            "text/html": [
              "<div>\n",
              "<style scoped>\n",
              "    .dataframe tbody tr th:only-of-type {\n",
              "        vertical-align: middle;\n",
              "    }\n",
              "\n",
              "    .dataframe tbody tr th {\n",
              "        vertical-align: top;\n",
              "    }\n",
              "\n",
              "    .dataframe thead th {\n",
              "        text-align: right;\n",
              "    }\n",
              "</style>\n",
              "<table border=\"1\" class=\"dataframe\">\n",
              "  <thead>\n",
              "    <tr style=\"text-align: right;\">\n",
              "      <th></th>\n",
              "      <th>Unnamed: 0</th>\n",
              "      <th>dia</th>\n",
              "      <th>temperatura mínima</th>\n",
              "      <th>temperatura máxima</th>\n",
              "    </tr>\n",
              "  </thead>\n",
              "  <tbody>\n",
              "    <tr>\n",
              "      <th>0</th>\n",
              "      <td>0</td>\n",
              "      <td>9</td>\n",
              "      <td>14º</td>\n",
              "      <td>20º</td>\n",
              "    </tr>\n",
              "  </tbody>\n",
              "</table>\n",
              "</div>"
            ],
            "text/plain": [
              "   Unnamed: 0  dia temperatura mínima temperatura máxima\n",
              "0           0    9                14º                20º"
            ]
          },
          "metadata": {},
          "execution_count": 265
        }
      ]
    },
    {
      "cell_type": "code",
      "metadata": {
        "id": "OPGJQzSLxRCl"
      },
      "source": [
        "tabela_clima2 = pd.read_csv(\"tabela_clima.csv\", index_col=0) # uso o parâmetro index para limpar a coluna"
      ],
      "execution_count": 266,
      "outputs": []
    },
    {
      "cell_type": "code",
      "metadata": {
        "colab": {
          "base_uri": "https://localhost:8080/",
          "height": 78
        },
        "id": "By5l3U5SxctK",
        "outputId": "d6b843f4-5109-4797-b91e-219b37f09fb6"
      },
      "source": [
        "tabela_clima2 # mostro a tabela sem a coluna inútil"
      ],
      "execution_count": 267,
      "outputs": [
        {
          "output_type": "execute_result",
          "data": {
            "text/html": [
              "<div>\n",
              "<style scoped>\n",
              "    .dataframe tbody tr th:only-of-type {\n",
              "        vertical-align: middle;\n",
              "    }\n",
              "\n",
              "    .dataframe tbody tr th {\n",
              "        vertical-align: top;\n",
              "    }\n",
              "\n",
              "    .dataframe thead th {\n",
              "        text-align: right;\n",
              "    }\n",
              "</style>\n",
              "<table border=\"1\" class=\"dataframe\">\n",
              "  <thead>\n",
              "    <tr style=\"text-align: right;\">\n",
              "      <th></th>\n",
              "      <th>dia</th>\n",
              "      <th>temperatura mínima</th>\n",
              "      <th>temperatura máxima</th>\n",
              "    </tr>\n",
              "  </thead>\n",
              "  <tbody>\n",
              "    <tr>\n",
              "      <th>0</th>\n",
              "      <td>9</td>\n",
              "      <td>14º</td>\n",
              "      <td>20º</td>\n",
              "    </tr>\n",
              "  </tbody>\n",
              "</table>\n",
              "</div>"
            ],
            "text/plain": [
              "   dia temperatura mínima temperatura máxima\n",
              "0    9                14º                20º"
            ]
          },
          "metadata": {},
          "execution_count": 267
        }
      ]
    },
    {
      "cell_type": "code",
      "metadata": {
        "id": "LdC-83GE141d"
      },
      "source": [
        ""
      ],
      "execution_count": 183,
      "outputs": []
    }
  ]
}